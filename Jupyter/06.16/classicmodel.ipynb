{
 "cells": [
  {
   "cell_type": "code",
   "execution_count": null,
   "id": "eafb6d07-dd74-4f8d-a587-c3e8db1767e2",
   "metadata": {},
   "outputs": [],
   "source": [
    "!cd"
   ]
  },
  {
   "cell_type": "code",
   "execution_count": null,
   "id": "005389fd-35e0-498e-87dc-4ee3ac28c673",
   "metadata": {},
   "outputs": [],
   "source": [
    "import pymysql.cursors\n",
    "import pandas as pd"
   ]
  },
  {
   "cell_type": "code",
   "execution_count": null,
   "id": "581cc6e7-b5f5-474e-8a76-ef9ca70f1ba6",
   "metadata": {},
   "outputs": [],
   "source": [
    "connection= pymysql.connect(host='localhost', user='root', password='root',\n",
    "        db='classicmodels', charset='utf8', autocommit=True, cursorclass=pymysql.cursors.DictCursor)\n",
    "\n",
    "sql = \"select customers.customerNumber, customers.salesRepEmployeeNumber, payments.checkNumber from\\\n",
    "        customers left join payments on customers.customerNumber = payments.customerNumber;\"\n",
    "\n",
    "try:\n",
    "    with connection.cursor() as cursor:\n",
    "        # Read a single record\n",
    "        # sql = \"SELECT total_bill From tip.tips where tip >= 7; \"\n",
    "        # sql = \"SELECT count(total_bill) From tip.tips where tip >= 7; \"\n",
    "        cursor.execute(sql)\n",
    "        rs = cursor.fetchall()\n",
    "        df = pd.DataFrame(rs)\n",
    "        print(df)\n",
    "finally:\n",
    "    connection.close()"
   ]
  },
  {
   "cell_type": "code",
   "execution_count": null,
   "id": "ac9747c8-f631-46d3-a9c4-1a3e92abe8ee",
   "metadata": {},
   "outputs": [],
   "source": [
    "df.isnull().sum()"
   ]
  },
  {
   "cell_type": "code",
   "execution_count": null,
   "id": "b9a371dd-2d07-4b4e-87c2-22705c339686",
   "metadata": {},
   "outputs": [],
   "source": [
    "df.values"
   ]
  },
  {
   "cell_type": "code",
   "execution_count": null,
   "id": "15ff6a95-a3c4-4c92-ad52-9ca152547ed2",
   "metadata": {},
   "outputs": [],
   "source": [
    "data = df.values\n",
    "ix = [i for i in range(data.shape[1]) if i != 3]"
   ]
  },
  {
   "cell_type": "code",
   "execution_count": null,
   "id": "23752c3e-3de3-4df0-a412-a5a09ec74ff9",
   "metadata": {},
   "outputs": [],
   "source": [
    "X = data[:,1]"
   ]
  },
  {
   "cell_type": "code",
   "execution_count": null,
   "id": "4291b670-7be2-407f-a623-025986b5a5ff",
   "metadata": {},
   "outputs": [],
   "source": [
    "X"
   ]
  },
  {
   "cell_type": "code",
   "execution_count": null,
   "id": "d9557d9d-95b2-4faa-94fe-8e1ef6bc2065",
   "metadata": {},
   "outputs": [],
   "source": [
    "from numpy import isnan\n",
    "from sklearn.impute import SimpleImputer"
   ]
  },
  {
   "cell_type": "code",
   "execution_count": null,
   "id": "d75ed9ea-3fab-4fe8-8fc7-e7208c1a195e",
   "metadata": {},
   "outputs": [],
   "source": [
    "imputer = SimpleImputer(strategy='mean')"
   ]
  },
  {
   "cell_type": "code",
   "execution_count": null,
   "id": "3f591237-14d4-490d-bf1d-7e771d34d558",
   "metadata": {},
   "outputs": [],
   "source": []
  }
 ],
 "metadata": {
  "kernelspec": {
   "display_name": "Python Multi",
   "language": "python",
   "name": "multi"
  },
  "language_info": {
   "codemirror_mode": {
    "name": "ipython",
    "version": 3
   },
   "file_extension": ".py",
   "mimetype": "text/x-python",
   "name": "python",
   "nbconvert_exporter": "python",
   "pygments_lexer": "ipython3",
   "version": "3.7.6"
  }
 },
 "nbformat": 4,
 "nbformat_minor": 5
}
