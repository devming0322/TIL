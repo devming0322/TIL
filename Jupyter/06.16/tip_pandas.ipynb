{
 "cells": [
  {
   "cell_type": "code",
   "execution_count": null,
   "id": "39a4e8c9-8243-40c0-9821-303ec02c117c",
   "metadata": {},
   "outputs": [],
   "source": [
    "!cd"
   ]
  },
  {
   "cell_type": "code",
   "execution_count": null,
   "id": "9eefc81b-41b5-42b0-94df-e8107994d05e",
   "metadata": {},
   "outputs": [],
   "source": [
    "import pandas as pd\n",
    "import numpy as np\n",
    "import matplotlib.pyplot as plt"
   ]
  },
  {
   "cell_type": "code",
   "execution_count": null,
   "id": "56df560e-2675-4706-b0af-53ac74acce0b",
   "metadata": {},
   "outputs": [],
   "source": [
    "tips = pd.read_csv('tips.csv')"
   ]
  },
  {
   "cell_type": "code",
   "execution_count": null,
   "id": "5bb9fc19-c925-4b30-a9c2-1192dc708c01",
   "metadata": {},
   "outputs": [],
   "source": [
    "tips.head()"
   ]
  },
  {
   "cell_type": "code",
   "execution_count": null,
   "id": "778ae608-252d-41ca-851d-f7a987bf61a8",
   "metadata": {},
   "outputs": [],
   "source": [
    "tips.groupby([tips['day'],tips['time']]).count()"
   ]
  },
  {
   "cell_type": "code",
   "execution_count": null,
   "id": "256f89b7-4e68-4ed6-b45f-f26ce1274abe",
   "metadata": {},
   "outputs": [],
   "source": [
    "t_bill = tips.total_bill"
   ]
  },
  {
   "cell_type": "code",
   "execution_count": null,
   "id": "4b574f14-e49a-48a7-a2c1-fda90a19fc2c",
   "metadata": {},
   "outputs": [],
   "source": [
    "plt.boxplot(t_bill, labels=['Total Bill'])\n",
    "plt.show()"
   ]
  },
  {
   "cell_type": "code",
   "execution_count": null,
   "id": "f5ab6a0d-263e-4a20-9aa6-bd8974c012a1",
   "metadata": {},
   "outputs": [],
   "source": [
    "import seaborn as sns"
   ]
  },
  {
   "cell_type": "code",
   "execution_count": null,
   "id": "a26d5a3f-4c89-4a1a-8415-101221d3395b",
   "metadata": {},
   "outputs": [],
   "source": [
    "t_sns_bill = sns.boxplot(x='total_bill', data=tips)"
   ]
  },
  {
   "cell_type": "code",
   "execution_count": null,
   "id": "829757da-3e2c-4d75-a650-d083ac4f9715",
   "metadata": {},
   "outputs": [],
   "source": [
    "t_tips = tips.tip"
   ]
  },
  {
   "cell_type": "code",
   "execution_count": null,
   "id": "ef750975-6b7e-4ff1-a469-9a386e5c0275",
   "metadata": {},
   "outputs": [],
   "source": [
    "plt.boxplot(t_tips, labels=['Tip'])\n",
    "plt.show()"
   ]
  },
  {
   "cell_type": "code",
   "execution_count": null,
   "id": "350ba315-dfc3-44da-8a55-87adf4b4a6f7",
   "metadata": {},
   "outputs": [],
   "source": [
    "sns.regplot(data=tips, x='size', y='tip')"
   ]
  },
  {
   "cell_type": "code",
   "execution_count": null,
   "id": "15920ba8-f74a-44b2-9278-52ba5208cc18",
   "metadata": {},
   "outputs": [],
   "source": [
    "tips.total_bill.describe()"
   ]
  },
  {
   "cell_type": "code",
   "execution_count": null,
   "id": "7c24898f-9855-4e8a-a4b2-10982d654a33",
   "metadata": {},
   "outputs": [],
   "source": [
    "tips.total_bill.hist()"
   ]
  },
  {
   "cell_type": "code",
   "execution_count": null,
   "id": "62f30af1-d54e-471c-8fbe-907bfffcbda1",
   "metadata": {},
   "outputs": [],
   "source": [
    "sns.distplot(x=t_bill, bins=30)"
   ]
  },
  {
   "cell_type": "code",
   "execution_count": null,
   "id": "26301e2a-b5b6-41b7-b601-359b0367a80c",
   "metadata": {},
   "outputs": [],
   "source": [
    "sns.displot(x=t_tips, bins=30)"
   ]
  },
  {
   "cell_type": "code",
   "execution_count": null,
   "id": "3926d466-cbb9-4e9e-96d3-895e96006da3",
   "metadata": {},
   "outputs": [],
   "source": [
    "tips.describe()"
   ]
  },
  {
   "cell_type": "code",
   "execution_count": null,
   "id": "20c8c34c-3488-4ee4-99a5-f7639a3e2d3c",
   "metadata": {},
   "outputs": [],
   "source": [
    "tips.info()"
   ]
  },
  {
   "cell_type": "code",
   "execution_count": null,
   "id": "37d11c2c-4b09-4033-a824-96d55f026d54",
   "metadata": {},
   "outputs": [],
   "source": [
    "pd.crosstab(index=tips['size'], columns=tips['tip'])"
   ]
  },
  {
   "cell_type": "code",
   "execution_count": null,
   "id": "ae53cfe8-6ca2-4892-9e4d-4ca9466fbc6b",
   "metadata": {},
   "outputs": [],
   "source": [
    "size_tip=pd.crosstab(index=tips['size'],columns=tips['tip'])\n",
    "size_tip.plot.bar()"
   ]
  },
  {
   "cell_type": "code",
   "execution_count": null,
   "id": "68a2c206-b700-4f0d-8458-be814e55409f",
   "metadata": {},
   "outputs": [],
   "source": [
    "size_t_bill=pd.crosstab(index=tips['size'],columns=tips['total_bill'])\n",
    "size_t_bill"
   ]
  },
  {
   "cell_type": "code",
   "execution_count": null,
   "id": "678c0339-20c8-4f5f-baa0-a773be6fba2e",
   "metadata": {},
   "outputs": [],
   "source": [
    "# pd.crosstab(index=tips['size'])"
   ]
  },
  {
   "cell_type": "code",
   "execution_count": null,
   "id": "ce3859e3-d77f-4fed-a532-f0e490e121fd",
   "metadata": {},
   "outputs": [],
   "source": [
    "tip_rate=tips['tip'] / tips['total_bill']"
   ]
  },
  {
   "cell_type": "code",
   "execution_count": null,
   "id": "185e7731-e307-448f-8565-f10d3e56e792",
   "metadata": {},
   "outputs": [],
   "source": [
    "tips.info()"
   ]
  },
  {
   "cell_type": "code",
   "execution_count": null,
   "id": "5891c62d-d959-45ad-8e4c-9e4eab6a7903",
   "metadata": {},
   "outputs": [],
   "source": [
    "tips['tip_rate']=tip_rate=tips['tip'] / tips['total_bill']"
   ]
  },
  {
   "cell_type": "code",
   "execution_count": null,
   "id": "66173ed9-ab0b-49ae-85b6-f2c9c59bfaa9",
   "metadata": {},
   "outputs": [],
   "source": [
    "tips.describe()"
   ]
  },
  {
   "cell_type": "code",
   "execution_count": null,
   "id": "a36ed666-f59e-405f-a909-cb19620adb69",
   "metadata": {},
   "outputs": [],
   "source": [
    "top_tip = (tips['tip_rate'] > 0.7)\n",
    "tips[tips['tip_rate'] > 0.7]"
   ]
  },
  {
   "cell_type": "code",
   "execution_count": null,
   "id": "be5e6d81-a8cb-454c-a3cc-1bea5a503ad5",
   "metadata": {},
   "outputs": [],
   "source": [
    "import pandas_profiling"
   ]
  },
  {
   "cell_type": "code",
   "execution_count": null,
   "id": "9e0a95b6-631c-4d6c-ac5c-417a19ba6a04",
   "metadata": {},
   "outputs": [],
   "source": [
    "tips.profile_report()"
   ]
  },
  {
   "cell_type": "code",
   "execution_count": null,
   "id": "1b817240-60d8-4424-9e5b-e4642bb22daf",
   "metadata": {},
   "outputs": [],
   "source": [
    "tips.corr()"
   ]
  },
  {
   "cell_type": "code",
   "execution_count": null,
   "id": "15afe386-e4b0-4db2-8364-3ab839f79c04",
   "metadata": {},
   "outputs": [],
   "source": [
    "tips['sex']=tips['sex'].replace({'Female':0,'Male':1})"
   ]
  },
  {
   "cell_type": "code",
   "execution_count": null,
   "id": "f2734aa1-99b4-45b8-bb34-107cfebddb55",
   "metadata": {},
   "outputs": [],
   "source": [
    "tips['smoker']=tips['smoker'].replace({'No':0,'Yes':1})"
   ]
  },
  {
   "cell_type": "code",
   "execution_count": null,
   "id": "75e4c69f-56f1-41f9-95ee-93a2feb5f6c3",
   "metadata": {},
   "outputs": [],
   "source": [
    "tips['day']=tips['day'].replace({'Thue':0, 'Fri':1, 'Sat':2, 'Sun':3})"
   ]
  },
  {
   "cell_type": "code",
   "execution_count": null,
   "id": "fb64d512-14a4-4645-94e4-8bcb0944afce",
   "metadata": {},
   "outputs": [],
   "source": [
    "tips['time']=tips['time'].replace({'Lunch':0,'Dinner':1})"
   ]
  },
  {
   "cell_type": "code",
   "execution_count": null,
   "id": "4ef83a1f-442f-43fd-b76b-c68efa736666",
   "metadata": {},
   "outputs": [],
   "source": [
    "tips.head()"
   ]
  },
  {
   "cell_type": "code",
   "execution_count": null,
   "id": "b2f0a10b-851d-46f0-95d2-a8f0c689c027",
   "metadata": {},
   "outputs": [],
   "source": [
    "tips['day'].unique()"
   ]
  },
  {
   "cell_type": "code",
   "execution_count": null,
   "id": "0072db18-3b65-471e-ab73-ced6161487bd",
   "metadata": {},
   "outputs": [],
   "source": [
    "tips['time'].unique()"
   ]
  },
  {
   "cell_type": "code",
   "execution_count": null,
   "id": "a2c81be4-4c48-4682-bc67-3252197b75f5",
   "metadata": {},
   "outputs": [],
   "source": [
    "tips.assign(tip_rate=tips[\"tip\"] / tips[\"total_bill\"]).head()"
   ]
  },
  {
   "cell_type": "code",
   "execution_count": null,
   "id": "334d95b6-9f49-47af-8ad9-07784965545d",
   "metadata": {},
   "outputs": [],
   "source": [
    "sns.pairplot(tips.loc[:,['total_bill','size']])"
   ]
  },
  {
   "cell_type": "code",
   "execution_count": null,
   "id": "35864fbe-ce73-4bc9-9a58-e1d03e1d3d36",
   "metadata": {},
   "outputs": [],
   "source": [
    "tips[tips[\"time\"] == \"Dinner\"].head(5)"
   ]
  },
  {
   "cell_type": "code",
   "execution_count": null,
   "id": "a9a95b70-c428-431a-bf99-dd27bb10268f",
   "metadata": {},
   "outputs": [],
   "source": [
    "tips[tips[\"time\"] == \"Dinner\"].total_bill.count()"
   ]
  },
  {
   "cell_type": "code",
   "execution_count": null,
   "id": "edac3aa7-abfc-401d-a8e9-9dd8e90b724e",
   "metadata": {},
   "outputs": [],
   "source": [
    "tips[tips[\"time\"] == \"Dinner\"].total_bill.hist()"
   ]
  },
  {
   "cell_type": "code",
   "execution_count": null,
   "id": "8104e271-b135-4fb5-b670-7ad31886d30f",
   "metadata": {},
   "outputs": [],
   "source": [
    "tips[tips[\"time\"] == \"Dinner\"].total_bill.max()"
   ]
  },
  {
   "cell_type": "code",
   "execution_count": null,
   "id": "b0623bea-ef1b-47a5-8e1e-c9793b7e7355",
   "metadata": {},
   "outputs": [],
   "source": [
    "tips[tips[\"time\"] == \"Lunch\"].total_bill.count()"
   ]
  },
  {
   "cell_type": "code",
   "execution_count": null,
   "id": "fe1ffb14-bdad-4f6a-b76d-35df0a0c84e8",
   "metadata": {},
   "outputs": [],
   "source": [
    "tips[tips[\"time\"] == \"Lunch\"].total_bill.hist()"
   ]
  },
  {
   "cell_type": "code",
   "execution_count": null,
   "id": "db5c1a8d-2bf5-478d-85d0-4ea3b8c0da0d",
   "metadata": {},
   "outputs": [],
   "source": [
    "tips[tips[\"time\"] == \"Lunch\"].total_bill.max()"
   ]
  },
  {
   "cell_type": "code",
   "execution_count": null,
   "id": "8b39debb-785b-41c6-80f6-e871e19d3488",
   "metadata": {},
   "outputs": [],
   "source": [
    "tips['time'].head()"
   ]
  },
  {
   "cell_type": "code",
   "execution_count": null,
   "id": "5217510e-0de5-417a-b1ed-ed246841838a",
   "metadata": {},
   "outputs": [],
   "source": [
    "is_dinner = tips['time'] == 'Dinner'"
   ]
  },
  {
   "cell_type": "code",
   "execution_count": null,
   "id": "5dce029e-9d7c-4d13-a126-75112e60a709",
   "metadata": {},
   "outputs": [],
   "source": [
    "tips[is_dinner].count()"
   ]
  },
  {
   "cell_type": "code",
   "execution_count": null,
   "id": "8f54626d-fbb1-41c3-8ce9-7fcbcc307877",
   "metadata": {},
   "outputs": [],
   "source": [
    "tips[is_dinner & (tips['tip'] > 5)]"
   ]
  },
  {
   "cell_type": "code",
   "execution_count": null,
   "id": "718351e4-1515-44ff-899c-cadf81c09276",
   "metadata": {},
   "outputs": [],
   "source": [
    "tips[(tips['size'] >=5 ) | (tips['total_bill'] > 45)]"
   ]
  },
  {
   "cell_type": "code",
   "execution_count": null,
   "id": "f9b012d9-ebb5-480b-93da-29bb87b9ab49",
   "metadata": {},
   "outputs": [],
   "source": [
    "frame = pd.DataFrame({\"col1\": [\"A\", \"B\", np.NaN, \"C\", \"D\"], \"col2\": [\"F\", np.NaN, \"G\", \"H\", \"I\"]})"
   ]
  },
  {
   "cell_type": "code",
   "execution_count": null,
   "id": "608303a2-aef6-4776-a53d-3df6c83f69db",
   "metadata": {},
   "outputs": [],
   "source": [
    "frame[frame[\"col2\"].isna()]"
   ]
  },
  {
   "cell_type": "code",
   "execution_count": null,
   "id": "d31ff388-a424-416c-88d3-534ffde869a9",
   "metadata": {},
   "outputs": [],
   "source": [
    "frame.iloc[1,:]"
   ]
  },
  {
   "cell_type": "code",
   "execution_count": null,
   "id": "2e71d21c-6be8-499f-a002-ce61f01d823e",
   "metadata": {},
   "outputs": [],
   "source": [
    "tips.groupby('day').count()"
   ]
  },
  {
   "cell_type": "code",
   "execution_count": null,
   "id": "36b260ba-0a30-4041-ba51-db31937ccce5",
   "metadata": {},
   "outputs": [],
   "source": [
    "group = tips.groupby('day')\n",
    "df1 = group.count()"
   ]
  },
  {
   "cell_type": "code",
   "execution_count": null,
   "id": "62bd6280-bccc-4d94-8393-7a3cb51a0f2d",
   "metadata": {},
   "outputs": [],
   "source": [
    "df1['size']"
   ]
  },
  {
   "cell_type": "code",
   "execution_count": null,
   "id": "82688355-da34-44f1-a949-670422c26a43",
   "metadata": {},
   "outputs": [],
   "source": [
    "df1.describe()"
   ]
  },
  {
   "cell_type": "code",
   "execution_count": null,
   "id": "2cfa8791-2162-4888-8974-c89647f21df7",
   "metadata": {},
   "outputs": [],
   "source": [
    "week = tips.groupby(\"day\").agg({\"tip\": np.mean, \"day\": np.size})\n",
    "week"
   ]
  },
  {
   "cell_type": "code",
   "execution_count": null,
   "id": "5412a523-c1f6-4d61-bcab-769854b70c28",
   "metadata": {},
   "outputs": [],
   "source": [
    "week.tip.mean()"
   ]
  },
  {
   "cell_type": "code",
   "execution_count": null,
   "id": "52a164b0-5336-4c89-8a59-36a590629aa0",
   "metadata": {},
   "outputs": [],
   "source": [
    "week.iloc[0,:]"
   ]
  },
  {
   "cell_type": "code",
   "execution_count": null,
   "id": "66b66ecd-468e-4bc2-8176-0fa55a596536",
   "metadata": {},
   "outputs": [],
   "source": [
    "week.loc['Fri',:]"
   ]
  },
  {
   "cell_type": "code",
   "execution_count": null,
   "id": "b70708ca-ef25-41c8-b31b-de4c88444656",
   "metadata": {},
   "outputs": [],
   "source": [
    "smoker = tips.groupby([\"smoker\", \"day\"]).agg({\"tip\": [np.size, np.mean]})\n",
    "smoker"
   ]
  },
  {
   "cell_type": "code",
   "execution_count": null,
   "id": "b5f62aec-23ce-49eb-9954-f90fc284586e",
   "metadata": {},
   "outputs": [],
   "source": [
    "smoker.info"
   ]
  },
  {
   "cell_type": "code",
   "execution_count": null,
   "id": "8093a424-b8ab-4215-8e47-bf81606f6e9a",
   "metadata": {},
   "outputs": [],
   "source": [
    "smoker.iloc[7,:]"
   ]
  },
  {
   "cell_type": "code",
   "execution_count": null,
   "id": "2c82ff92-2a6b-43e3-8c82-fbb10b9e2b56",
   "metadata": {},
   "outputs": [],
   "source": []
  }
 ],
 "metadata": {
  "kernelspec": {
   "display_name": "Python Multi",
   "language": "python",
   "name": "multi"
  },
  "language_info": {
   "codemirror_mode": {
    "name": "ipython",
    "version": 3
   },
   "file_extension": ".py",
   "mimetype": "text/x-python",
   "name": "python",
   "nbconvert_exporter": "python",
   "pygments_lexer": "ipython3",
   "version": "3.7.6"
  }
 },
 "nbformat": 4,
 "nbformat_minor": 5
}
