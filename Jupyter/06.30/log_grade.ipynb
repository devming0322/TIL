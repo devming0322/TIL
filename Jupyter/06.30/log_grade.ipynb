{
 "cells": [
  {
   "cell_type": "code",
   "execution_count": 1,
   "id": "160ad808-e07e-4ef2-8054-5ba497ca72df",
   "metadata": {},
   "outputs": [],
   "source": [
    "# colorlog 모듈을 설치한 뒤에 실행해주셔야 합니다\n",
    "# 오류에서 확인하기 힘듭니다.\n",
    "\"\"\"로그 전용 모듈\"\"\"\n",
    "import logging.config\n",
    "import settings"
   ]
  },
  {
   "cell_type": "code",
   "execution_count": 1,
   "id": "a92f0efd-33d4-4eac-8588-159bd44810fd",
   "metadata": {},
   "outputs": [],
   "source": [
    "def get_my_logger(name):\n",
    "    logging.config.dictConfig(settings.LOGGING_CONF)\n",
    "    return logging.getLogger(name)\n",
    "\n",
    "logger = get_my_logger(__name__)"
   ]
  },
  {
   "cell_type": "code",
   "execution_count": 1,
   "id": "4412daa0-33c8-4be2-a386-fc27b4e2a835",
   "metadata": {},
   "outputs": [
    {
     "name": "stderr",
     "output_type": "stream",
     "text": [
      "\u001b[01;30m[DEBUG]\t2021-06-30 17:16:12\tDEBUG 레벨입니다.\u001b[0m\n",
      "\u001b[37m[INFO]\t2021-06-30 17:16:12\tINFO 레벨입니다.\u001b[0m\n",
      "\u001b[33m[WARNING]\t2021-06-30 17:16:12\tWARNING 레벨입니다.\u001b[0m\n",
      "\u001b[31m[ERROR]\t2021-06-30 17:16:12\tERROR 레벨입니다.\u001b[0m\n",
      "\u001b[01;31m[CRITICAL]\t2021-06-30 17:16:12\tCRITICAL 레벨입니다.\u001b[0m\n"
     ]
    }
   ],
   "source": [
    "if __name__ == '__main__':\n",
    "    \"\"\"my_logging를 사용해봅니다.\"\"\"\n",
    "    logger.debug('DEBUG 레벨입니다.')\n",
    "    logger.info('INFO 레벨입니다.')\n",
    "    logger.warning('WARNING 레벨입니다.')\n",
    "    logger.error('ERROR 레벨입니다.')\n",
    "    logger.critical('CRITICAL 레벨입니다.')"
   ]
  },
  {
   "cell_type": "code",
   "execution_count": null,
   "id": "db2a5d73-24c8-407a-b771-24550e2dddb7",
   "metadata": {},
   "outputs": [],
   "source": []
  }
 ],
 "metadata": {
  "kernelspec": {
   "display_name": "Python Multi",
   "language": "python",
   "name": "multi"
  },
  "language_info": {
   "codemirror_mode": {
    "name": "ipython",
    "version": 3
   },
   "file_extension": ".py",
   "mimetype": "text/x-python",
   "name": "python",
   "nbconvert_exporter": "python",
   "pygments_lexer": "ipython3",
   "version": "3.7.6"
  }
 },
 "nbformat": 4,
 "nbformat_minor": 5
}
