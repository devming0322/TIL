{
 "cells": [
  {
   "cell_type": "code",
   "execution_count": 1,
   "id": "6438b0f4-05ca-4eec-8d9e-a500ade31ada",
   "metadata": {},
   "outputs": [],
   "source": [
    "import feedparser\n",
    "import MySQLdb"
   ]
  },
  {
   "cell_type": "code",
   "execution_count": 2,
   "id": "b8317395-67e6-456e-a6b5-2374b1fc9cb5",
   "metadata": {},
   "outputs": [],
   "source": [
    "# 데이터베이스 연결하기\n",
    "connection = MySQLdb.connect(\n",
    "    user=\"me\",\n",
    "    passwd=\"root\",\n",
    "    host=\"localhost\",\n",
    "    db=\"tip\",\n",
    "    charset=\"utf8\")"
   ]
  },
  {
   "cell_type": "code",
   "execution_count": 3,
   "id": "23cb6ece-c346-4f1b-933f-58f90d7ff52b",
   "metadata": {},
   "outputs": [],
   "source": [
    "# 커서 생성하기\n",
    "cursor = connection.cursor()"
   ]
  },
  {
   "cell_type": "code",
   "execution_count": 4,
   "id": "cc3a1377-17f6-4b95-8cee-4e66dc552024",
   "metadata": {},
   "outputs": [
    {
     "data": {
      "text/plain": [
       "0"
      ]
     },
     "execution_count": 4,
     "metadata": {},
     "output_type": "execute_result"
    }
   ],
   "source": [
    "# 실행할 때마다 같은 레코드가 중복되어 들어가지 않게 테이블을 제거해두기\n",
    "cursor.execute(\"DROP TABLE IF EXISTS books\")"
   ]
  },
  {
   "cell_type": "code",
   "execution_count": 5,
   "id": "cf90c0d3-54ad-46e9-ba2a-fbf96387a388",
   "metadata": {},
   "outputs": [
    {
     "data": {
      "text/plain": [
       "0"
      ]
     },
     "execution_count": 5,
     "metadata": {},
     "output_type": "execute_result"
    }
   ],
   "source": [
    "# 테이블 생성하기\n",
    "cursor.execute(\"CREATE TABLE books (title text, url text)\")"
   ]
  },
  {
   "cell_type": "code",
   "execution_count": 6,
   "id": "47e0c35d-ac29-4dfd-bb84-9c1b408dea7a",
   "metadata": {},
   "outputs": [],
   "source": [
    "# URL을 지정해서 FeedParserDict 객체 생성하기\n",
    "rss = feedparser.parse(\"http://www.aladin.co.kr/rss/special_new/351\")"
   ]
  },
  {
   "cell_type": "code",
   "execution_count": 7,
   "id": "1edddcf1-0b96-458c-bbe9-c11e76dba0a4",
   "metadata": {},
   "outputs": [
    {
     "name": "stdout",
     "output_type": "stream",
     "text": [
      "rss20\n"
     ]
    }
   ],
   "source": [
    "# RSS 버전 확인하기\n",
    "print(rss.version)"
   ]
  },
  {
   "cell_type": "code",
   "execution_count": 8,
   "id": "1c8d6af8-a40e-4ed1-949c-b963ff0e93c1",
   "metadata": {},
   "outputs": [
    {
     "name": "stdout",
     "output_type": "stream",
     "text": [
      "분야별 신간 특선 - 컴퓨터/모바일\n"
     ]
    }
   ],
   "source": [
    "# 피드의 제목\n",
    "print(rss[\"feed\"][\"title\"])"
   ]
  },
  {
   "cell_type": "code",
   "execution_count": 9,
   "id": "b8a9d8c9-aeea-4464-81c2-59a6127f80f7",
   "metadata": {},
   "outputs": [],
   "source": [
    "# 반복 적용\n",
    "for content in rss[\"entries\"]:\n",
    "    # 데이터 저장하기\n",
    "    cursor.execute(\"INSERT INTO books VALUES(%s, %s)\", (content[\"title\"], content[\"link\"])) "
   ]
  },
  {
   "cell_type": "code",
   "execution_count": 10,
   "id": "af5744a9-1bba-492f-8624-767dbfc9b460",
   "metadata": {},
   "outputs": [],
   "source": [
    "# 커밋하기\n",
    "connection.commit()\n",
    "\n",
    "# 연결 종료하기\n",
    "connection.close()"
   ]
  }
 ],
 "metadata": {
  "kernelspec": {
   "display_name": "Python Django",
   "language": "python",
   "name": "django"
  },
  "language_info": {
   "codemirror_mode": {
    "name": "ipython",
    "version": 3
   },
   "file_extension": ".py",
   "mimetype": "text/x-python",
   "name": "python",
   "nbconvert_exporter": "python",
   "pygments_lexer": "ipython3",
   "version": "3.8.3"
  }
 },
 "nbformat": 4,
 "nbformat_minor": 5
}
