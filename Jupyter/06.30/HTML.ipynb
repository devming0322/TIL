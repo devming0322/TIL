{
 "cells": [
  {
   "cell_type": "code",
   "execution_count": 10,
   "id": "1835328e-a883-4ae4-884d-25f611129647",
   "metadata": {},
   "outputs": [],
   "source": [
    "import requests\n",
    "import cssselect\n",
    "import lxml.html"
   ]
  },
  {
   "cell_type": "code",
   "execution_count": 11,
   "id": "56d4dc2b-6bc9-41f9-adec-b3ec3ce954e6",
   "metadata": {},
   "outputs": [],
   "source": [
    "# HTML 소스 코드를 읽어 들입니다.\n",
    "r = requests.get(\"http://wikibook.co.kr/python-for-web-scraping/\")\n",
    "html = r.text"
   ]
  },
  {
   "cell_type": "code",
   "execution_count": 12,
   "id": "7216e6ed-d2e7-4f2f-9116-ed02d8ca314e",
   "metadata": {},
   "outputs": [],
   "source": [
    "# HTML을 HtmlElement 객체로 변환합니다.\n",
    "root = lxml.html.fromstring(html)\n",
    "\n",
    "# XPath를 사용해서 요소를 추출합니다.\n",
    "# titleElement = root.xpath('//*[@id=\"content\"]/div[1]/div[2]/ul/li[1]')"
   ]
  },
  {
   "cell_type": "code",
   "execution_count": 13,
   "id": "31a8b9e1-3a10-4ccf-b061-cfc299d409a0",
   "metadata": {},
   "outputs": [],
   "source": [
    "titleElement = root.xpath('//*[@id=\"content\"]/div[1]/div[2]/ul/li[1]')"
   ]
  },
  {
   "cell_type": "code",
   "execution_count": 14,
   "id": "cd5314bd-d109-4dae-8121-6c6c37f7a195",
   "metadata": {},
   "outputs": [
    {
     "data": {
      "text/plain": [
       "list"
      ]
     },
     "execution_count": 14,
     "metadata": {},
     "output_type": "execute_result"
    }
   ],
   "source": [
    "type(titleElement)"
   ]
  },
  {
   "cell_type": "code",
   "execution_count": 15,
   "id": "c6a4548d-ca91-4f3a-bafe-8db714084294",
   "metadata": {},
   "outputs": [
    {
     "name": "stdout",
     "output_type": "stream",
     "text": [
      "카토 코타 \n"
     ]
    }
   ],
   "source": [
    "# 리스트의 첫 번째 요소가 가진 텍스트를 출력합니다.\n",
    "print(titleElement[0].text)"
   ]
  },
  {
   "cell_type": "code",
   "execution_count": 16,
   "id": "fce61231-8e5a-49ae-a804-0a5396b504ed",
   "metadata": {},
   "outputs": [
    {
     "data": {
      "text/plain": [
       "'li'"
      ]
     },
     "execution_count": 16,
     "metadata": {},
     "output_type": "execute_result"
    }
   ],
   "source": [
    "titleElement[0].tag"
   ]
  },
  {
   "cell_type": "code",
   "execution_count": 17,
   "id": "37b2902b-1f23-4c9c-b685-205490829fac",
   "metadata": {},
   "outputs": [
    {
     "data": {
      "text/plain": [
       "{}"
      ]
     },
     "execution_count": 17,
     "metadata": {},
     "output_type": "execute_result"
    }
   ],
   "source": [
    "titleElement[0].attrib"
   ]
  },
  {
   "cell_type": "code",
   "execution_count": 18,
   "id": "84e8911c-389c-4ef2-9b33-28d5e1ea660a",
   "metadata": {},
   "outputs": [
    {
     "name": "stdout",
     "output_type": "stream",
     "text": [
      "http://www.yes24.com/24/goods/59307498\n",
      "http://www.kyobobook.co.kr/product/detailViewKor.laf?barcode=9791158390952\n",
      "http://book.interpark.com/product/BookDisplay.do?_method=detail&sc.prdNo=281415537\n",
      "http://www.aladin.co.kr/shop/wproduct.aspx?ItemId=137872443\n"
     ]
    }
   ],
   "source": [
    "# CSS 선택자를 사용해서 요소를 추출합니다.\n",
    "linkAs = root.cssselect('#book-stores > li > a')\n",
    "\n",
    "## for 반복문으로 추출한 요소의 href 속성을 추출합니다.\n",
    "for linkA in linkAs:\n",
    "    print(linkA.attrib[\"href\"])"
   ]
  },
  {
   "cell_type": "code",
   "execution_count": null,
   "id": "5671dd17-515d-431a-9ee9-2245c9becb1b",
   "metadata": {},
   "outputs": [],
   "source": []
  }
 ],
 "metadata": {
  "kernelspec": {
   "display_name": "Python Django",
   "language": "python",
   "name": "django"
  },
  "language_info": {
   "codemirror_mode": {
    "name": "ipython",
    "version": 3
   },
   "file_extension": ".py",
   "mimetype": "text/x-python",
   "name": "python",
   "nbconvert_exporter": "python",
   "pygments_lexer": "ipython3",
   "version": "3.8.3"
  }
 },
 "nbformat": 4,
 "nbformat_minor": 5
}
