{
 "cells": [
  {
   "cell_type": "code",
   "execution_count": 2,
   "id": "ffc11781-e4b5-4564-9c97-98a6b5f2f665",
   "metadata": {},
   "outputs": [],
   "source": [
    "# 윈도우에서는 한글 인코딩 오류가 발생할 수 있습니다.\n",
    "# 한글 인코딩 오류가 발생한다면\n",
    "# Message.log(message_type=\"info\", msg=\"데이터를 저장했습니다.\")\n",
    "# 위의 코드 부분의 msg를 영어로 수정해서 사용해주세요.\n",
    "import json\n",
    "import sys\n",
    "from eliot import Message, start_action, to_file, write_traceback\n",
    "import requests"
   ]
  },
  {
   "cell_type": "code",
   "execution_count": 3,
   "id": "d3196ef3-c0fc-4cf2-9c9c-1c05b1e6e1eb",
   "metadata": {},
   "outputs": [],
   "source": [
    "# 로그 출력을 표준 출력으로 설정(터미널에 출력하기)\n",
    "to_file(sys.stdout)\n",
    "# 크롤링 대상 URL 리스트\n",
    "PAGE_URL_LIST = [\n",
    "    'https://eliot.readthedocs.io/en/1.0.0/',\n",
    "    'https://eliot.readthedocs.io/en/1.0.0/generating/index.html',\n",
    "    'https://example.com/notfound.html',\n",
    "]"
   ]
  },
  {
   "cell_type": "code",
   "execution_count": 5,
   "id": "4d54b5e9-b3f7-47b7-b877-a21dcee126a0",
   "metadata": {},
   "outputs": [],
   "source": [
    "def fetch_pages():\n",
    "    \"\"\"페이지의 내용을 추출합니다.\"\"\"\n",
    "    # 어떤 처리의 로그인지는 action_type으로 지정\n",
    "    with start_action(action_type=\"fetch_pages\"):\n",
    "        page_contents = {}\n",
    "        for page_url in PAGE_URL_LIST:\n",
    "            # 어떤 처리의 로그인지 action_type으로 출력\n",
    "            with start_action(action_type=\"download\", url=page_url):\n",
    "                try:\n",
    "                    r = requests.get(page_url, timeout=30)\n",
    "                    r.raise_for_status()\n",
    "                except requests.exceptions.RequestException as e:\n",
    "                    write_traceback()  # 예외가 발생하면 트레이스백 출력\n",
    "                    continue\n",
    "                page_contents[page_url] = r.text\n",
    "        return page_contents"
   ]
  },
  {
   "cell_type": "code",
   "execution_count": 6,
   "id": "50f32230-a3cf-4d8e-881c-57f009e42684",
   "metadata": {},
   "outputs": [
    {
     "name": "stdout",
     "output_type": "stream",
     "text": [
      "{\"action_status\": \"started\", \"timestamp\": 1625041260.0274534, \"task_uuid\": \"da4c5510-d637-4e2d-8fe8-c5617b437fc9\", \"action_type\": \"fetch_pages\", \"task_level\": [1]}\n",
      "{\"url\": \"https://eliot.readthedocs.io/en/1.0.0/\", \"action_status\": \"started\", \"timestamp\": 1625041260.0274534, \"task_uuid\": \"da4c5510-d637-4e2d-8fe8-c5617b437fc9\", \"action_type\": \"download\", \"task_level\": [2, 1]}\n",
      "{\"action_status\": \"succeeded\", \"timestamp\": 1625041260.0674899, \"task_uuid\": \"da4c5510-d637-4e2d-8fe8-c5617b437fc9\", \"action_type\": \"download\", \"task_level\": [2, 2]}\n",
      "{\"url\": \"https://eliot.readthedocs.io/en/1.0.0/generating/index.html\", \"action_status\": \"started\", \"timestamp\": 1625041260.0684912, \"task_uuid\": \"da4c5510-d637-4e2d-8fe8-c5617b437fc9\", \"action_type\": \"download\", \"task_level\": [3, 1]}\n",
      "{\"action_status\": \"succeeded\", \"timestamp\": 1625041260.110529, \"task_uuid\": \"da4c5510-d637-4e2d-8fe8-c5617b437fc9\", \"action_type\": \"download\", \"task_level\": [3, 2]}\n",
      "{\"url\": \"https://example.com/notfound.html\", \"action_status\": \"started\", \"timestamp\": 1625041260.1115305, \"task_uuid\": \"da4c5510-d637-4e2d-8fe8-c5617b437fc9\", \"action_type\": \"download\", \"task_level\": [4, 1]}\n",
      "{\"reason\": \"404 Client Error: Not Found for url: https://example.com/notfound.html\", \"traceback\": \"Traceback (most recent call last):\\n  File \\\"<ipython-input-5-b576a670c4b6>\\\", line 11, in fetch_pages\\n  File \\\"C:\\\\Users\\\\so970\\\\anaconda3\\\\envs\\\\multi\\\\lib\\\\site-packages\\\\requests\\\\models.py\\\", line 943, in raise_for_status\\nrequests.exceptions.HTTPError: 404 Client Error: Not Found for url: https://example.com/notfound.html\\n\", \"exception\": \"requests.exceptions.HTTPError\", \"errno\": null, \"timestamp\": 1625041260.9219923, \"task_uuid\": \"da4c5510-d637-4e2d-8fe8-c5617b437fc9\", \"task_level\": [4, 2], \"message_type\": \"eliot:traceback\"}\n",
      "{\"action_status\": \"succeeded\", \"timestamp\": 1625041260.9219923, \"task_uuid\": \"da4c5510-d637-4e2d-8fe8-c5617b437fc9\", \"action_type\": \"download\", \"task_level\": [4, 3]}\n",
      "{\"action_status\": \"succeeded\", \"timestamp\": 1625041260.9229934, \"task_uuid\": \"da4c5510-d637-4e2d-8fe8-c5617b437fc9\", \"action_type\": \"fetch_pages\", \"task_level\": [5]}\n",
      "{\"msg\": \"\\ub370\\uc774\\ud130\\ub97c \\uc800\\uc7a5\\ud588\\uc2b5\\ub2c8\\ub2e4.\", \"timestamp\": 1625041260.9239943, \"task_uuid\": \"eb069a54-f7fc-44cc-a546-96b055af2afa\", \"task_level\": [1], \"message_type\": \"info\"}\n"
     ]
    },
    {
     "name": "stderr",
     "output_type": "stream",
     "text": [
      "C:\\Users\\so970\\anaconda3\\envs\\multi\\lib\\site-packages\\ipykernel_launcher.py:7: DeprecationWarning: Message.log() is deprecated since 1.11.0, use Action.log() or eliot.log_message() instead.\n",
      "  import sys\n"
     ]
    }
   ],
   "source": [
    "if __name__ == '__main__':\n",
    "    page_contents = fetch_pages()\n",
    "    with open('page_contents.json', 'w') as f_page_contents:\n",
    "        json.dump(page_contents, f_page_contents, ensure_ascii=False)\n",
    "        \n",
    "    # 단순하게 로그 메시지만 출력할 수도 있음\n",
    "    Message.log(message_type=\"info\", msg=\"데이터를 저장했습니다.\")"
   ]
  },
  {
   "cell_type": "code",
   "execution_count": null,
   "id": "6a78a6a0-6bc3-4e23-b0c7-82b1f0215034",
   "metadata": {},
   "outputs": [],
   "source": []
  }
 ],
 "metadata": {
  "kernelspec": {
   "display_name": "Python Multi",
   "language": "python",
   "name": "multi"
  },
  "language_info": {
   "codemirror_mode": {
    "name": "ipython",
    "version": 3
   },
   "file_extension": ".py",
   "mimetype": "text/x-python",
   "name": "python",
   "nbconvert_exporter": "python",
   "pygments_lexer": "ipython3",
   "version": "3.7.6"
  }
 },
 "nbformat": 4,
 "nbformat_minor": 5
}
