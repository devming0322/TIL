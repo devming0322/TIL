import numpy as np                   # array, vector, matrix calculations
import pandas as pd                  # DataFrame handling

import pandas_profiling
import sklearn

data = pd.read_csv('credit_cards_dataset.csv')
data.info()

data.corr()

data.describe()

data.profile_report()
