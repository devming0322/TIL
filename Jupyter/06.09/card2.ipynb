{
 "cells": [
  {
   "cell_type": "code",
   "execution_count": null,
   "id": "1a47bb01-7cfe-4522-aed0-3856f3e4a680",
   "metadata": {},
   "outputs": [],
   "source": [
    "import numpy as np                   # array, vector, matrix calculations\n",
    "import pandas as pd                  # DataFrame handling"
   ]
  },
  {
   "cell_type": "code",
   "execution_count": null,
   "id": "754916ae-cf69-4351-acba-4227e3df723b",
   "metadata": {},
   "outputs": [],
   "source": [
    "import pandas_profiling\n",
    "import sklearn"
   ]
  },
  {
   "cell_type": "code",
   "execution_count": null,
   "id": "3f270b05-b552-45b7-8fab-d559bdcd35f0",
   "metadata": {},
   "outputs": [],
   "source": [
    "data = pd.read_csv('Data_USD.csv')\n",
    "data.info()"
   ]
  },
  {
   "cell_type": "code",
   "execution_count": null,
   "id": "39aac9a2-30f4-4b83-9301-6bcf47c01dd5",
   "metadata": {},
   "outputs": [],
   "source": [
    "data.corr()"
   ]
  },
  {
   "cell_type": "code",
   "execution_count": null,
   "id": "57706cd6-06ab-411b-a48d-123491e85c7e",
   "metadata": {},
   "outputs": [],
   "source": [
    "data.describe()"
   ]
  },
  {
   "cell_type": "code",
   "execution_count": null,
   "id": "65e1d37c-af98-4336-b868-9cb152515f34",
   "metadata": {},
   "outputs": [],
   "source": [
    "data.profile_report()"
   ]
  },
  {
   "cell_type": "code",
   "execution_count": null,
   "id": "68ef6286-0ffb-426e-b8f6-73c95e437a9c",
   "metadata": {},
   "outputs": [],
   "source": []
  }
 ],
 "metadata": {
  "kernelspec": {
   "display_name": "Python Multi",
   "language": "python",
   "name": "multi"
  },
  "language_info": {
   "codemirror_mode": {
    "name": "ipython",
    "version": 3
   },
   "file_extension": ".py",
   "mimetype": "text/x-python",
   "name": "python",
   "nbconvert_exporter": "python",
   "pygments_lexer": "ipython3",
   "version": "3.7.6"
  }
 },
 "nbformat": 4,
 "nbformat_minor": 5
}
