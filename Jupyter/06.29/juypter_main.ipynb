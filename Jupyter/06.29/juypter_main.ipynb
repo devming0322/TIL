{
 "cells": [
  {
   "cell_type": "markdown",
   "metadata": {},
   "source": [
    "<h3>Google Image Scrapper for Juypter Notebook</h3>"
   ]
  },
  {
   "cell_type": "code",
   "execution_count": null,
   "metadata": {},
   "outputs": [],
   "source": [
    "#!pip install selenium==4.0.0a6"
   ]
  },
  {
   "cell_type": "code",
   "execution_count": 2,
   "metadata": {},
   "outputs": [],
   "source": [
    "from GoogleImageScrapper import GoogleImageScraper\n",
    "import os\n",
    "import time"
   ]
  },
  {
   "cell_type": "code",
   "execution_count": 3,
   "metadata": {},
   "outputs": [],
   "source": [
    "sleep_between_interactions = 1\n",
    "webdriver_path = os.getcwd()+\".\\\\webdriver\\\\chromedriver.exe\"\n",
    "image_path = os.getcwd()+\".\\\\images\""
   ]
  },
  {
   "cell_type": "code",
   "execution_count": 6,
   "metadata": {},
   "outputs": [
    {
     "name": "stdout",
     "output_type": "stream",
     "text": [
      "GoogleImageScraper Notification: Scraping for image link... Please wait.\n",
      "0. https://i.ytimg.com/vi/2hcnmImLs9o/maxresdefault.jpg\n",
      "1. https://caseend.com/media/acat-s1/20210125/acat-s1.png\n",
      "GoogleImageScraper Skip: Unable to get the link for this photo\n",
      "2. https://img.ch-webdev.com/hws/uploads/tb_hws_626947156275-1.jpg\n",
      "GoogleImageScraper Skip: Unable to get the link for this photo\n",
      "GoogleImageScraper Skip: Unable to get the link for this photo\n",
      "3. https://reviewer.co/wp-content/uploads/2021/05/acat-s1-thumbnail.png\n",
      "GoogleImageScraper Skip: Unable to get the link for this photo\n",
      "GoogleImageScraper Skip: Unable to get the link for this photo\n",
      "4. https://i.imgur.com/8Bk8Zw3.jpg\n",
      "GoogleImageScraper Notification: Saving Image... Please wait.\n",
      "0 .Image saved at: C:\\Users\\so970\\Desktop\\K-Digital\\Web_Crawling.\\images\\Acat S10.jpg\n",
      "1 .Image saved at: C:\\Users\\so970\\Desktop\\K-Digital\\Web_Crawling.\\images\\Acat S11.jpg\n",
      "2 .Image saved at: C:\\Users\\so970\\Desktop\\K-Digital\\Web_Crawling.\\images\\Acat S12.jpg\n",
      "3 .Image saved at: C:\\Users\\so970\\Desktop\\K-Digital\\Web_Crawling.\\images\\Acat S13.jpg\n",
      "4 .Image saved at: C:\\Users\\so970\\Desktop\\K-Digital\\Web_Crawling.\\images\\Acat S14.jpg\n",
      "GoogleImageScraper Notification: Download Completed.\n"
     ]
    }
   ],
   "source": [
    "#image_path = os.getcwd()+\"\\\\photos\"\n",
    "#add new search key into array [\"cat\",\"t-shirt\",\"apple\",\"orange\",\"pear\",\"fish\"]\n",
    "#search_keys= [\"woodpecker\",\"owl\"]\n",
    "search_keys= [\"Acat S1\"]\n",
    "number_of_images = 10\n",
    "headless = False\n",
    "#min_resolution = (width,height)\n",
    "min_resolution=(0,0)\n",
    "#max_resolution = (width,height)\n",
    "max_resolution=(2000,2000)\n",
    "for search_key in search_keys:\n",
    "    image_scrapper = GoogleImageScraper(webdriver_path,image_path,search_key,number_of_images,headless,min_resolution,max_resolution)\n",
    "    image_urls = image_scrapper.find_image_urls()\n",
    "    image_scrapper.save_images(image_urls)\n",
    "    time.sleep(sleep_between_interactions)"
   ]
  },
  {
   "cell_type": "code",
   "execution_count": null,
   "metadata": {},
   "outputs": [],
   "source": []
  }
 ],
 "metadata": {
  "kernelspec": {
   "display_name": "Python 3",
   "language": "python",
   "name": "python3"
  },
  "language_info": {
   "codemirror_mode": {
    "name": "ipython",
    "version": 3
   },
   "file_extension": ".py",
   "mimetype": "text/x-python",
   "name": "python",
   "nbconvert_exporter": "python",
   "pygments_lexer": "ipython3",
   "version": "3.8.8"
  }
 },
 "nbformat": 4,
 "nbformat_minor": 4
}
