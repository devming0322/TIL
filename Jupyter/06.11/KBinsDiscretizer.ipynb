{
 "cells": [
  {
   "cell_type": "markdown",
   "id": "peaceful-means",
   "metadata": {},
   "source": [
    "### KBinsDiscretizer"
   ]
  },
  {
   "cell_type": "code",
   "execution_count": 38,
   "id": "authorized-healing",
   "metadata": {},
   "outputs": [],
   "source": [
    "# discretize numeric input variables\n",
    "from sklearn.datasets import make_classification\n",
    "from sklearn.preprocessing import KBinsDiscretizer\n",
    "import pandas as pd"
   ]
  },
  {
   "cell_type": "code",
   "execution_count": 39,
   "id": "0434ac24-f5dc-43a6-9309-2226dc3b9e2b",
   "metadata": {},
   "outputs": [],
   "source": [
    "# define dataset\n",
    "X, y = make_classification(n_samples=5000000, n_features=5, #n_informative=5, n_redundant=0,\n",
    "random_state=1)"
   ]
  },
  {
   "cell_type": "code",
   "execution_count": 40,
   "id": "62a6ae3a-fb1e-48ed-8187-e5496bc0338f",
   "metadata": {},
   "outputs": [
    {
     "data": {
      "text/plain": [
       "(5000000, 5)"
      ]
     },
     "execution_count": 40,
     "metadata": {},
     "output_type": "execute_result"
    }
   ],
   "source": [
    "X.shape"
   ]
  },
  {
   "cell_type": "code",
   "execution_count": 41,
   "id": "280de717-ecc4-4175-b68b-9183d85c975d",
   "metadata": {},
   "outputs": [
    {
     "data": {
      "text/plain": [
       "(5000000,)"
      ]
     },
     "execution_count": 41,
     "metadata": {},
     "output_type": "execute_result"
    }
   ],
   "source": [
    "y.shape"
   ]
  },
  {
   "cell_type": "code",
   "execution_count": 42,
   "id": "e50a96f3-0c5e-4afe-8772-44d33cbac543",
   "metadata": {},
   "outputs": [
    {
     "data": {
      "text/plain": [
       "array([-1.68946284,  0.47814224, -1.4159231 , -0.9966515 ,  0.2534083 ])"
      ]
     },
     "execution_count": 42,
     "metadata": {},
     "output_type": "execute_result"
    }
   ],
   "source": [
    "X[0,:]"
   ]
  },
  {
   "cell_type": "code",
   "execution_count": 43,
   "id": "b3aa25fe-41d2-4aeb-ae84-7afae9005842",
   "metadata": {},
   "outputs": [
    {
     "name": "stdout",
     "output_type": "stream",
     "text": [
      "[[-1.68946284  0.47814224 -1.4159231  -0.9966515   0.2534083 ]\n",
      " [ 1.62396887  1.10351079  0.06765056  2.19392866  1.57927283]\n",
      " [ 0.84974941 -1.89498192 -0.83533631 -0.8068739  -2.05687097]]\n"
     ]
    }
   ],
   "source": [
    "# summarize data before the transform\n",
    "print(X[:3, :])"
   ]
  },
  {
   "cell_type": "code",
   "execution_count": 44,
   "id": "2f9a1ab2-f5e6-4486-b8c1-dcab995ce10b",
   "metadata": {},
   "outputs": [
    {
     "data": {
      "text/plain": [
       "0.5000458"
      ]
     },
     "execution_count": 44,
     "metadata": {},
     "output_type": "execute_result"
    }
   ],
   "source": [
    "y.mean()"
   ]
  },
  {
   "cell_type": "code",
   "execution_count": 45,
   "id": "487938ed-250f-4e1c-8e99-a7c36defce1e",
   "metadata": {},
   "outputs": [
    {
     "data": {
      "text/plain": [
       "-8.219719039587167"
      ]
     },
     "execution_count": 45,
     "metadata": {},
     "output_type": "execute_result"
    }
   ],
   "source": [
    "X.min()"
   ]
  },
  {
   "cell_type": "code",
   "execution_count": 46,
   "id": "7e042fed-5d53-4c46-adc9-b849fb8fd20c",
   "metadata": {},
   "outputs": [
    {
     "data": {
      "text/plain": [
       "8.725264229850012"
      ]
     },
     "execution_count": 46,
     "metadata": {},
     "output_type": "execute_result"
    }
   ],
   "source": [
    "X.max()"
   ]
  },
  {
   "cell_type": "code",
   "execution_count": 47,
   "id": "exceptional-policy",
   "metadata": {},
   "outputs": [],
   "source": [
    "# define the transform\n",
    "trans = KBinsDiscretizer(n_bins=10, encode='ordinal', strategy='uniform')"
   ]
  },
  {
   "cell_type": "code",
   "execution_count": 48,
   "id": "c83697d0-9b4c-45fb-b31b-1dd71208ed68",
   "metadata": {},
   "outputs": [],
   "source": [
    "# transform the data\n",
    "X_discrete = trans.fit_transform(X)"
   ]
  },
  {
   "cell_type": "code",
   "execution_count": 49,
   "id": "ba946e0f-32d5-48f7-9ee6-120d9ecc5743",
   "metadata": {},
   "outputs": [
    {
     "data": {
      "text/plain": [
       "array([-1.68946284,  0.47814224, -1.4159231 , -0.9966515 ,  0.2534083 ])"
      ]
     },
     "execution_count": 49,
     "metadata": {},
     "output_type": "execute_result"
    }
   ],
   "source": [
    "X[0,:]"
   ]
  },
  {
   "cell_type": "code",
   "execution_count": 50,
   "id": "9cc433b7-edec-4700-a10a-d56e870ca314",
   "metadata": {},
   "outputs": [
    {
     "name": "stdout",
     "output_type": "stream",
     "text": [
      "[6. 5. 5. 6. 5.]\n"
     ]
    }
   ],
   "source": [
    "print(X_discrete[1, :])"
   ]
  },
  {
   "cell_type": "code",
   "execution_count": 51,
   "id": "09d08d9f-a47e-4d38-bdda-7469b6d66a28",
   "metadata": {},
   "outputs": [
    {
     "name": "stdout",
     "output_type": "stream",
     "text": [
      "[[4. 5. 3. 4. 4.]\n",
      " [6. 5. 5. 6. 5.]\n",
      " [6. 2. 4. 4. 2.]]\n"
     ]
    }
   ],
   "source": [
    "# summarize data after the transform\n",
    "print(X_discrete[:3, :])"
   ]
  },
  {
   "cell_type": "code",
   "execution_count": 52,
   "id": "large-swedish",
   "metadata": {},
   "outputs": [],
   "source": [
    "data = pd.DataFrame(X)"
   ]
  },
  {
   "cell_type": "code",
   "execution_count": 53,
   "id": "627af1d0-6253-407c-8126-c2c3239cb05c",
   "metadata": {},
   "outputs": [
    {
     "data": {
      "text/html": [
       "<div>\n",
       "<style scoped>\n",
       "    .dataframe tbody tr th:only-of-type {\n",
       "        vertical-align: middle;\n",
       "    }\n",
       "\n",
       "    .dataframe tbody tr th {\n",
       "        vertical-align: top;\n",
       "    }\n",
       "\n",
       "    .dataframe thead th {\n",
       "        text-align: right;\n",
       "    }\n",
       "</style>\n",
       "<table border=\"1\" class=\"dataframe\">\n",
       "  <thead>\n",
       "    <tr style=\"text-align: right;\">\n",
       "      <th></th>\n",
       "      <th>0</th>\n",
       "      <th>1</th>\n",
       "      <th>2</th>\n",
       "      <th>3</th>\n",
       "      <th>4</th>\n",
       "    </tr>\n",
       "  </thead>\n",
       "  <tbody>\n",
       "    <tr>\n",
       "      <th>0</th>\n",
       "      <td>-1.689463</td>\n",
       "      <td>0.478142</td>\n",
       "      <td>-1.415923</td>\n",
       "      <td>-0.996652</td>\n",
       "      <td>0.253408</td>\n",
       "    </tr>\n",
       "    <tr>\n",
       "      <th>1</th>\n",
       "      <td>1.623969</td>\n",
       "      <td>1.103511</td>\n",
       "      <td>0.067651</td>\n",
       "      <td>2.193929</td>\n",
       "      <td>1.579273</td>\n",
       "    </tr>\n",
       "    <tr>\n",
       "      <th>2</th>\n",
       "      <td>0.849749</td>\n",
       "      <td>-1.894982</td>\n",
       "      <td>-0.835336</td>\n",
       "      <td>-0.806874</td>\n",
       "      <td>-2.056871</td>\n",
       "    </tr>\n",
       "    <tr>\n",
       "      <th>3</th>\n",
       "      <td>-2.653229</td>\n",
       "      <td>0.158848</td>\n",
       "      <td>0.357983</td>\n",
       "      <td>-2.033319</td>\n",
       "      <td>-0.292467</td>\n",
       "    </tr>\n",
       "    <tr>\n",
       "      <th>4</th>\n",
       "      <td>0.532721</td>\n",
       "      <td>-0.962054</td>\n",
       "      <td>-1.447291</td>\n",
       "      <td>-0.327197</td>\n",
       "      <td>-1.026000</td>\n",
       "    </tr>\n",
       "    <tr>\n",
       "      <th>...</th>\n",
       "      <td>...</td>\n",
       "      <td>...</td>\n",
       "      <td>...</td>\n",
       "      <td>...</td>\n",
       "      <td>...</td>\n",
       "    </tr>\n",
       "    <tr>\n",
       "      <th>4999995</th>\n",
       "      <td>0.407197</td>\n",
       "      <td>-1.072403</td>\n",
       "      <td>-0.693199</td>\n",
       "      <td>-0.516586</td>\n",
       "      <td>-1.177287</td>\n",
       "    </tr>\n",
       "    <tr>\n",
       "      <th>4999996</th>\n",
       "      <td>-0.537712</td>\n",
       "      <td>-1.283112</td>\n",
       "      <td>-1.259472</td>\n",
       "      <td>-1.452054</td>\n",
       "      <td>-1.593139</td>\n",
       "    </tr>\n",
       "    <tr>\n",
       "      <th>4999997</th>\n",
       "      <td>-2.983132</td>\n",
       "      <td>-0.139964</td>\n",
       "      <td>-0.896213</td>\n",
       "      <td>-2.538021</td>\n",
       "      <td>-0.700331</td>\n",
       "    </tr>\n",
       "    <tr>\n",
       "      <th>4999998</th>\n",
       "      <td>1.348827</td>\n",
       "      <td>0.755906</td>\n",
       "      <td>1.153021</td>\n",
       "      <td>1.695206</td>\n",
       "      <td>1.124368</td>\n",
       "    </tr>\n",
       "    <tr>\n",
       "      <th>4999999</th>\n",
       "      <td>-0.469245</td>\n",
       "      <td>0.555858</td>\n",
       "      <td>2.017843</td>\n",
       "      <td>0.057680</td>\n",
       "      <td>0.563737</td>\n",
       "    </tr>\n",
       "  </tbody>\n",
       "</table>\n",
       "<p>5000000 rows × 5 columns</p>\n",
       "</div>"
      ],
      "text/plain": [
       "                0         1         2         3         4\n",
       "0       -1.689463  0.478142 -1.415923 -0.996652  0.253408\n",
       "1        1.623969  1.103511  0.067651  2.193929  1.579273\n",
       "2        0.849749 -1.894982 -0.835336 -0.806874 -2.056871\n",
       "3       -2.653229  0.158848  0.357983 -2.033319 -0.292467\n",
       "4        0.532721 -0.962054 -1.447291 -0.327197 -1.026000\n",
       "...           ...       ...       ...       ...       ...\n",
       "4999995  0.407197 -1.072403 -0.693199 -0.516586 -1.177287\n",
       "4999996 -0.537712 -1.283112 -1.259472 -1.452054 -1.593139\n",
       "4999997 -2.983132 -0.139964 -0.896213 -2.538021 -0.700331\n",
       "4999998  1.348827  0.755906  1.153021  1.695206  1.124368\n",
       "4999999 -0.469245  0.555858  2.017843  0.057680  0.563737\n",
       "\n",
       "[5000000 rows x 5 columns]"
      ]
     },
     "execution_count": 53,
     "metadata": {},
     "output_type": "execute_result"
    }
   ],
   "source": [
    "data"
   ]
  },
  {
   "cell_type": "code",
   "execution_count": 56,
   "id": "3c64ff49-fee5-4fbd-87ec-01c6905b54a8",
   "metadata": {},
   "outputs": [
    {
     "data": {
      "text/html": [
       "<div>\n",
       "<style scoped>\n",
       "    .dataframe tbody tr th:only-of-type {\n",
       "        vertical-align: middle;\n",
       "    }\n",
       "\n",
       "    .dataframe tbody tr th {\n",
       "        vertical-align: top;\n",
       "    }\n",
       "\n",
       "    .dataframe thead th {\n",
       "        text-align: right;\n",
       "    }\n",
       "</style>\n",
       "<table border=\"1\" class=\"dataframe\">\n",
       "  <thead>\n",
       "    <tr style=\"text-align: right;\">\n",
       "      <th></th>\n",
       "      <th>0</th>\n",
       "      <th>1</th>\n",
       "      <th>2</th>\n",
       "      <th>3</th>\n",
       "      <th>4</th>\n",
       "    </tr>\n",
       "  </thead>\n",
       "  <tbody>\n",
       "    <tr>\n",
       "      <th>count</th>\n",
       "      <td>5000000.00</td>\n",
       "      <td>5000000.00</td>\n",
       "      <td>5000000.00</td>\n",
       "      <td>5000000.00</td>\n",
       "      <td>5000000.00</td>\n",
       "    </tr>\n",
       "    <tr>\n",
       "      <th>mean</th>\n",
       "      <td>0.00</td>\n",
       "      <td>-0.00</td>\n",
       "      <td>0.00</td>\n",
       "      <td>-0.00</td>\n",
       "      <td>-0.00</td>\n",
       "    </tr>\n",
       "    <tr>\n",
       "      <th>std</th>\n",
       "      <td>1.33</td>\n",
       "      <td>1.07</td>\n",
       "      <td>1.00</td>\n",
       "      <td>1.40</td>\n",
       "      <td>1.28</td>\n",
       "    </tr>\n",
       "    <tr>\n",
       "      <th>min</th>\n",
       "      <td>-7.67</td>\n",
       "      <td>-4.23</td>\n",
       "      <td>-5.16</td>\n",
       "      <td>-8.22</td>\n",
       "      <td>-4.49</td>\n",
       "    </tr>\n",
       "    <tr>\n",
       "      <th>25%</th>\n",
       "      <td>-1.02</td>\n",
       "      <td>-0.87</td>\n",
       "      <td>-0.67</td>\n",
       "      <td>-1.31</td>\n",
       "      <td>-1.03</td>\n",
       "    </tr>\n",
       "    <tr>\n",
       "      <th>50%</th>\n",
       "      <td>0.11</td>\n",
       "      <td>0.01</td>\n",
       "      <td>0.00</td>\n",
       "      <td>-0.09</td>\n",
       "      <td>-0.16</td>\n",
       "    </tr>\n",
       "    <tr>\n",
       "      <th>75%</th>\n",
       "      <td>1.04</td>\n",
       "      <td>0.84</td>\n",
       "      <td>0.68</td>\n",
       "      <td>0.88</td>\n",
       "      <td>1.00</td>\n",
       "    </tr>\n",
       "    <tr>\n",
       "      <th>max</th>\n",
       "      <td>5.97</td>\n",
       "      <td>4.89</td>\n",
       "      <td>5.16</td>\n",
       "      <td>8.73</td>\n",
       "      <td>6.77</td>\n",
       "    </tr>\n",
       "  </tbody>\n",
       "</table>\n",
       "</div>"
      ],
      "text/plain": [
       "                0           1           2           3           4\n",
       "count  5000000.00  5000000.00  5000000.00  5000000.00  5000000.00\n",
       "mean         0.00       -0.00        0.00       -0.00       -0.00\n",
       "std          1.33        1.07        1.00        1.40        1.28\n",
       "min         -7.67       -4.23       -5.16       -8.22       -4.49\n",
       "25%         -1.02       -0.87       -0.67       -1.31       -1.03\n",
       "50%          0.11        0.01        0.00       -0.09       -0.16\n",
       "75%          1.04        0.84        0.68        0.88        1.00\n",
       "max          5.97        4.89        5.16        8.73        6.77"
      ]
     },
     "execution_count": 56,
     "metadata": {},
     "output_type": "execute_result"
    }
   ],
   "source": [
    "data.describe().round(2)"
   ]
  },
  {
   "cell_type": "code",
   "execution_count": 57,
   "id": "528ecce7-f0ac-4aac-854c-469f4f87a24b",
   "metadata": {},
   "outputs": [
    {
     "data": {
      "text/plain": [
       "0   -1.689463\n",
       "1    0.478142\n",
       "2   -1.415923\n",
       "3   -0.996652\n",
       "4    0.253408\n",
       "Name: 0, dtype: float64"
      ]
     },
     "execution_count": 57,
     "metadata": {},
     "output_type": "execute_result"
    }
   ],
   "source": [
    "data.iloc[0,:]"
   ]
  },
  {
   "cell_type": "code",
   "execution_count": null,
   "id": "99e1c67e-ea83-4d41-bc5f-3f5a8d442139",
   "metadata": {},
   "outputs": [],
   "source": []
  }
 ],
 "metadata": {
  "kernelspec": {
   "display_name": "Python Multi",
   "language": "python",
   "name": "multi"
  },
  "language_info": {
   "codemirror_mode": {
    "name": "ipython",
    "version": 3
   },
   "file_extension": ".py",
   "mimetype": "text/x-python",
   "name": "python",
   "nbconvert_exporter": "python",
   "pygments_lexer": "ipython3",
   "version": "3.7.6"
  }
 },
 "nbformat": 4,
 "nbformat_minor": 5
}
