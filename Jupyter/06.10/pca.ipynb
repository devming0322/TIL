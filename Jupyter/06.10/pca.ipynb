{
 "cells": [
  {
   "cell_type": "markdown",
   "id": "presidential-voice",
   "metadata": {},
   "source": [
    "### PCA"
   ]
  },
  {
   "cell_type": "code",
   "execution_count": 1,
   "id": "yellow-slope",
   "metadata": {},
   "outputs": [],
   "source": [
    "# example of pca for dimensionality reduction\n",
    "from sklearn.datasets import make_classification\n",
    "from sklearn.decomposition import PCA"
   ]
  },
  {
   "cell_type": "code",
   "execution_count": 2,
   "id": "72fe0d51-9c87-4e9c-be81-870dc7ba4e63",
   "metadata": {},
   "outputs": [],
   "source": [
    "# define dataset\n",
    "X, y = make_classification(n_samples=1000, n_features=10, n_informative=3, n_redundant=7,\n",
    "random_state=1)"
   ]
  },
  {
   "cell_type": "code",
   "execution_count": 2,
   "id": "eb052d31-eeeb-4d14-b921-d9976e081766",
   "metadata": {},
   "outputs": [
    {
     "name": "stdout",
     "output_type": "stream",
     "text": [
      "[[-0.53448246  0.93837451  0.38969914  0.0926655   1.70876508  1.14351305\n",
      "  -1.47034214  0.11857673 -2.72241741  0.2953565 ]\n",
      " [-2.42280473 -1.02658758 -2.34792156 -0.82422408  0.59933419 -2.44832253\n",
      "   0.39750207  2.0265065   1.83374105  0.72430365]\n",
      " [-1.83391794 -1.1946668  -0.73806871  1.50947233  1.78047734  0.58779205\n",
      "  -2.78506977 -0.04163788 -1.25227833  0.99373587]]\n"
     ]
    }
   ],
   "source": [
    "# summarize data before the transform\n",
    "print(X[:3, :])"
   ]
  },
  {
   "cell_type": "code",
   "execution_count": 4,
   "id": "2795ad5c-667f-4417-bf7f-26200e6ca930",
   "metadata": {},
   "outputs": [
    {
     "data": {
      "text/plain": [
       "(1000,)"
      ]
     },
     "execution_count": 4,
     "metadata": {},
     "output_type": "execute_result"
    }
   ],
   "source": [
    "y.shape"
   ]
  },
  {
   "cell_type": "code",
   "execution_count": 5,
   "id": "cdcef33f-6dc5-4015-b3ea-6512f14efd0c",
   "metadata": {},
   "outputs": [],
   "source": [
    "# define the transform\n",
    "trans = PCA(n_components=5)"
   ]
  },
  {
   "cell_type": "code",
   "execution_count": 6,
   "id": "e88a7551-1411-4c29-a7c6-bd492f3fa4ed",
   "metadata": {},
   "outputs": [],
   "source": [
    "# transform the data\n",
    "X_dim = trans.fit_transform(X)"
   ]
  },
  {
   "cell_type": "code",
   "execution_count": 7,
   "id": "6d1a8bc8-94bb-4f6f-bfb0-68edda6cf127",
   "metadata": {},
   "outputs": [
    {
     "name": "stdout",
     "output_type": "stream",
     "text": [
      "[[-1.64710578e+00 -2.11683302e+00  1.98256096e+00  1.30406782e-16\n",
      "  -3.91878808e-16]\n",
      " [ 9.28402085e-01  4.82949970e+00  2.27270432e-01  2.79095446e-16\n",
      "   2.25477926e-15]\n",
      " [-3.83677757e+00  3.23007138e-01  1.15128013e-01  1.53440178e-15\n",
      "  -1.10164814e-15]\n",
      " [ 2.98883528e+00  1.22231056e-01 -3.77494784e+00  4.44270336e-16\n",
      "  -6.90785450e-17]\n",
      " [ 2.01849224e+00  2.76689442e+00 -9.03284402e-01  7.28263782e-16\n",
      "   2.40761860e-17]]\n"
     ]
    }
   ],
   "source": [
    "# summarize data after the transform\n",
    "print(X_dim[:5, :])"
   ]
  },
  {
   "cell_type": "code",
   "execution_count": null,
   "id": "df6ffd7a-6bf4-41b0-bf82-5d1ed809f083",
   "metadata": {},
   "outputs": [],
   "source": []
  }
 ],
 "metadata": {
  "kernelspec": {
   "display_name": "Python 3",
   "language": "python",
   "name": "python3"
  },
  "language_info": {
   "codemirror_mode": {
    "name": "ipython",
    "version": 3
   },
   "file_extension": ".py",
   "mimetype": "text/x-python",
   "name": "python",
   "nbconvert_exporter": "python",
   "pygments_lexer": "ipython3",
   "version": "3.7.6"
  }
 },
 "nbformat": 4,
 "nbformat_minor": 5
}
