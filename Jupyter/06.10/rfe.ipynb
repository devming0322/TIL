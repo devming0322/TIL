{
 "cells": [
  {
   "cell_type": "markdown",
   "id": "cc85c64f-ead6-4daf-bf5a-92ecaf4dac03",
   "metadata": {},
   "source": [
    "# report which features were selected by RFE"
   ]
  },
  {
   "cell_type": "code",
   "execution_count": null,
   "id": "df73a282-0b08-43ce-badd-7d157fd73291",
   "metadata": {},
   "outputs": [],
   "source": [
    "from sklearn.datasets import make_classification\n",
    "from sklearn.feature_selection import RFE\n",
    "from sklearn.tree import DecisionTreeClassifier"
   ]
  },
  {
   "cell_type": "code",
   "execution_count": null,
   "id": "793a094b-2d51-4c89-8757-e23f16a22e1e",
   "metadata": {},
   "outputs": [],
   "source": [
    "# define dataset\n",
    "X, y = make_classification(n_samples=1000, n_features=10, n_informative=5, n_redundant=5,\n",
    "random_state=1)"
   ]
  },
  {
   "cell_type": "code",
   "execution_count": null,
   "id": "f85aaece-85f0-4bba-a45c-1d67abcaef7b",
   "metadata": {},
   "outputs": [],
   "source": [
    "X"
   ]
  },
  {
   "cell_type": "code",
   "execution_count": null,
   "id": "64df181f-af4e-431f-9638-b74b0cb77275",
   "metadata": {},
   "outputs": [],
   "source": [
    "y"
   ]
  },
  {
   "cell_type": "code",
   "execution_count": null,
   "id": "9b13eba5-612c-4a29-97e4-f34fd3c8dd8b",
   "metadata": {},
   "outputs": [],
   "source": [
    "X.shape"
   ]
  },
  {
   "cell_type": "code",
   "execution_count": null,
   "id": "0f61cbcb-37f9-4e42-980b-adddd9d7d2a8",
   "metadata": {},
   "outputs": [],
   "source": [
    "y.ndim"
   ]
  },
  {
   "cell_type": "code",
   "execution_count": null,
   "id": "46b8e9a0-3540-4756-a4dd-71b2cefefc14",
   "metadata": {},
   "outputs": [],
   "source": [
    "# define RFE\n",
    "rfe = RFE(estimator=DecisionTreeClassifier(), n_features_to_select=7)"
   ]
  },
  {
   "cell_type": "code",
   "execution_count": null,
   "id": "9111e641-cf16-4a98-b361-991df3387759",
   "metadata": {},
   "outputs": [],
   "source": [
    "rfe"
   ]
  },
  {
   "cell_type": "code",
   "execution_count": null,
   "id": "5f0e865d-a358-4f6e-b88c-c6d365f85286",
   "metadata": {},
   "outputs": [],
   "source": [
    "# fit RFE\n",
    "rfe.fit(X, y)"
   ]
  },
  {
   "cell_type": "code",
   "execution_count": null,
   "id": "02c6d37d-17cd-4d45-b383-7a74b3d19517",
   "metadata": {},
   "outputs": [],
   "source": [
    "X.shape"
   ]
  },
  {
   "cell_type": "code",
   "execution_count": null,
   "id": "4523d30a-7991-4d15-847d-296759cd4ccd",
   "metadata": {},
   "outputs": [],
   "source": [
    "# summarize all features\n",
    "for i in range(X.shape[1]):\n",
    "  print('Column: %d, Selected=%s, Rank: %d' % (i, rfe.support_[i], rfe.ranking_[i]))"
   ]
  },
  {
   "cell_type": "code",
   "execution_count": null,
   "id": "fd832ecc-5dc9-44b2-8b27-bcbceaad02a6",
   "metadata": {},
   "outputs": [],
   "source": []
  }
 ],
 "metadata": {
  "kernelspec": {
   "display_name": "Python Multi",
   "language": "python",
   "name": "multi"
  },
  "language_info": {
   "codemirror_mode": {
    "name": "ipython",
    "version": 3
   },
   "file_extension": ".py",
   "mimetype": "text/x-python",
   "name": "python",
   "nbconvert_exporter": "python",
   "pygments_lexer": "ipython3",
   "version": "3.7.6"
  }
 },
 "nbformat": 4,
 "nbformat_minor": 5
}
