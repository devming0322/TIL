{
 "cells": [
  {
   "cell_type": "markdown",
   "id": "5a211918-4df8-4b80-9649-a9e7f223dd71",
   "metadata": {},
   "source": [
    "# Target Variable : Tip with variable > tip_rate"
   ]
  },
  {
   "cell_type": "code",
   "execution_count": null,
   "id": "98ee70e7-54b6-4265-bdf2-d16c600b2eab",
   "metadata": {},
   "outputs": [],
   "source": [
    "!cd"
   ]
  },
  {
   "cell_type": "code",
   "execution_count": null,
   "id": "eb720013-2e81-4905-83f3-8222793b6623",
   "metadata": {},
   "outputs": [],
   "source": [
    "import pymysql.cursors\n",
    "import pandas as pd\n",
    "import numpy as np \n",
    "\n",
    "from sklearn.impute import SimpleImputer\n",
    "from numpy import isnan"
   ]
  },
  {
   "cell_type": "code",
   "execution_count": null,
   "id": "da73fc02-197d-4939-a1d4-51d46ad73b9d",
   "metadata": {},
   "outputs": [],
   "source": [
    "df = pd.read_csv('tips.csv')"
   ]
  },
  {
   "cell_type": "code",
   "execution_count": null,
   "id": "b57185d4-74bd-458f-8ee9-331c87a5be07",
   "metadata": {},
   "outputs": [],
   "source": [
    "df.info()"
   ]
  },
  {
   "cell_type": "markdown",
   "id": "a4eb326a-00e8-49de-a8cd-66142f26becb",
   "metadata": {},
   "source": [
    "# Encoding"
   ]
  },
  {
   "cell_type": "code",
   "execution_count": null,
   "id": "5e877e77-5985-40fd-8d9b-df4a4814e220",
   "metadata": {},
   "outputs": [],
   "source": [
    "df['sex'].replace({'Female':0, 'Male':1}, inplace=True)\n",
    "df[\"smoker\"].replace({\"No\" : 0, \"Yes\" : 1}, inplace=True)\n",
    "df[\"day\"].replace({\"Thur\" : 0, \"Fri\" : 1, \"Sat\" : 2, \"Sun\" : 3}, inplace=True)\n",
    "df[\"time\"].replace({\"Lunch\" : 0, \"Dinner\" : 1}, inplace=True)\n",
    "df['tip_rate']=df[\"tip\"] / df[\"total_bill\"]"
   ]
  },
  {
   "cell_type": "code",
   "execution_count": null,
   "id": "3c0de1e1-f6ea-4c64-8528-4c95588f9b75",
   "metadata": {},
   "outputs": [],
   "source": [
    "df.info()"
   ]
  },
  {
   "cell_type": "code",
   "execution_count": null,
   "id": "194a6695-6d43-403a-81c2-c91b133da001",
   "metadata": {},
   "outputs": [],
   "source": [
    "df.columns"
   ]
  },
  {
   "cell_type": "code",
   "execution_count": null,
   "id": "fee50ef4-2cd7-4e47-9b61-82e25879d839",
   "metadata": {},
   "outputs": [],
   "source": [
    "df.isnull().sum()"
   ]
  },
  {
   "cell_type": "code",
   "execution_count": null,
   "id": "86f82d3f-af6f-46b1-be5b-5d7fdfdc498a",
   "metadata": {},
   "outputs": [],
   "source": [
    "df.describe()"
   ]
  },
  {
   "cell_type": "code",
   "execution_count": null,
   "id": "b79acfdf-5e1d-4bf1-9c50-8526c2f95f43",
   "metadata": {},
   "outputs": [],
   "source": [
    "type(df)"
   ]
  },
  {
   "cell_type": "code",
   "execution_count": null,
   "id": "9a26f474-5009-4fe6-9509-4fdd49352ae6",
   "metadata": {},
   "outputs": [],
   "source": [
    "df['tip_rate']=((df['tip']/df['total_bill'])*100).round(2)"
   ]
  },
  {
   "cell_type": "code",
   "execution_count": null,
   "id": "a18ad9ec-7a75-489b-a43c-28db36cfaaa0",
   "metadata": {},
   "outputs": [],
   "source": [
    "df['tip_rate'].head(3)"
   ]
  },
  {
   "cell_type": "code",
   "execution_count": null,
   "id": "c545a815-d86f-40b0-a04f-de708e3d50d6",
   "metadata": {},
   "outputs": [],
   "source": [
    "df.describe()"
   ]
  },
  {
   "cell_type": "code",
   "execution_count": null,
   "id": "1b376a49-23e7-4527-a2cb-451483df1358",
   "metadata": {},
   "outputs": [],
   "source": [
    "df.replace('',np.nan,inplace=True) # '' -> np.nan"
   ]
  },
  {
   "cell_type": "code",
   "execution_count": null,
   "id": "5388b132-4efe-45d5-9b4b-1531d1441cc2",
   "metadata": {},
   "outputs": [],
   "source": [
    "df.info"
   ]
  },
  {
   "cell_type": "code",
   "execution_count": null,
   "id": "ee1ceda7-48eb-4ee5-85c2-139a47419a96",
   "metadata": {},
   "outputs": [],
   "source": [
    "df.describe()"
   ]
  },
  {
   "cell_type": "code",
   "execution_count": null,
   "id": "62fa4316-1acf-47c6-96ad-c88228ca6f3e",
   "metadata": {},
   "outputs": [],
   "source": [
    "type(df)"
   ]
  },
  {
   "cell_type": "code",
   "execution_count": null,
   "id": "f609450f-d1b1-4ec7-911e-1036f54c1ff7",
   "metadata": {},
   "outputs": [],
   "source": [
    "data = df.values"
   ]
  },
  {
   "cell_type": "code",
   "execution_count": null,
   "id": "6178d6c8-9a2c-47fa-acc7-c4fa279b8d34",
   "metadata": {},
   "outputs": [],
   "source": [
    "y=df['tip']"
   ]
  },
  {
   "cell_type": "code",
   "execution_count": null,
   "id": "65dbd32e-7a75-4ce0-b815-2233b6b76707",
   "metadata": {},
   "outputs": [],
   "source": [
    "X=df.drop('tip',axis=1)"
   ]
  },
  {
   "cell_type": "code",
   "execution_count": null,
   "id": "534e491d-b677-40d5-9d77-360fbe9cf33c",
   "metadata": {},
   "outputs": [],
   "source": [
    "X.columns"
   ]
  },
  {
   "cell_type": "code",
   "execution_count": null,
   "id": "e5013557-fadd-4d47-a84e-c3035a31daa7",
   "metadata": {},
   "outputs": [],
   "source": [
    "X.describe()"
   ]
  },
  {
   "cell_type": "code",
   "execution_count": null,
   "id": "0539ed2c-f87a-4c74-83f8-12765a9afbe6",
   "metadata": {},
   "outputs": [],
   "source": [
    "y.describe()"
   ]
  },
  {
   "cell_type": "code",
   "execution_count": null,
   "id": "daba16bb-ed27-4a7d-a94f-1dff467068a8",
   "metadata": {},
   "outputs": [],
   "source": [
    "data=X.values # Train data"
   ]
  },
  {
   "cell_type": "code",
   "execution_count": null,
   "id": "577a504c-56a3-4efd-bbb1-3c702fcfb669",
   "metadata": {},
   "outputs": [],
   "source": [
    "y=y.values"
   ]
  },
  {
   "cell_type": "code",
   "execution_count": null,
   "id": "1a00e6d9-8ce2-40c3-a923-50d6b8d42a40",
   "metadata": {},
   "outputs": [],
   "source": [
    "data[:,5]"
   ]
  },
  {
   "cell_type": "code",
   "execution_count": null,
   "id": "4acce37e-6444-4166-a073-4ce9b245dd56",
   "metadata": {},
   "outputs": [],
   "source": [
    "sum(np.isnan(data).flatten())"
   ]
  },
  {
   "cell_type": "code",
   "execution_count": null,
   "id": "411d8dfd-517b-4170-b06c-655232b951d9",
   "metadata": {},
   "outputs": [],
   "source": [
    "sum(np.isnan(y).flatten())"
   ]
  },
  {
   "cell_type": "code",
   "execution_count": null,
   "id": "3fd0f8a4-2ee9-4875-9f48-f012fad7ef4d",
   "metadata": {},
   "outputs": [],
   "source": [
    "imputer = SimpleImputer(strategy='median')"
   ]
  },
  {
   "cell_type": "code",
   "execution_count": null,
   "id": "7bab0148-6f4b-426d-8569-25e6b1b73690",
   "metadata": {},
   "outputs": [],
   "source": [
    "imputer.fit(data)"
   ]
  },
  {
   "cell_type": "code",
   "execution_count": null,
   "id": "158e46a5-5b37-4db8-8662-ee5fe19e2914",
   "metadata": {},
   "outputs": [],
   "source": [
    "# transform the dataset\n",
    "data_trans = imputer.transform(data)"
   ]
  },
  {
   "cell_type": "code",
   "execution_count": null,
   "id": "2044cd5d-7761-43a2-ab34-41c02a51921c",
   "metadata": {},
   "outputs": [],
   "source": [
    "data_trans[:,5]"
   ]
  },
  {
   "cell_type": "markdown",
   "id": "842f6624-7a99-4cb5-abe8-bcd77b55759b",
   "metadata": {},
   "source": [
    "### Scaling Standard\n",
    "### RFE"
   ]
  },
  {
   "cell_type": "code",
   "execution_count": null,
   "id": "0a05f6e2-cf54-4150-8c89-d8a8fd45f2e9",
   "metadata": {},
   "outputs": [],
   "source": [
    "from sklearn.feature_selection import RFE\n",
    "from sklearn.tree import DecisionTreeClassifier\n",
    "from sklearn.svm import SVR\n",
    "from sklearn.preprocessing import StandardScaler"
   ]
  },
  {
   "cell_type": "code",
   "execution_count": null,
   "id": "5af6ec50-97b7-447a-ab9d-36acf478935b",
   "metadata": {},
   "outputs": [],
   "source": [
    "sc=StandardScaler()"
   ]
  },
  {
   "cell_type": "code",
   "execution_count": null,
   "id": "3844cd2c-0234-4db5-9ab9-070f40c3cb1d",
   "metadata": {},
   "outputs": [],
   "source": [
    "data = df.values"
   ]
  },
  {
   "cell_type": "code",
   "execution_count": null,
   "id": "98a956a2-c37a-40f5-acc8-95c1c5358aa1",
   "metadata": {},
   "outputs": [],
   "source": [
    "data_sc=sc.fit_transform(data)"
   ]
  },
  {
   "cell_type": "code",
   "execution_count": null,
   "id": "5238a294-0600-41e0-bcf6-895bd60b30a0",
   "metadata": {},
   "outputs": [],
   "source": [
    "data_sc"
   ]
  },
  {
   "cell_type": "code",
   "execution_count": null,
   "id": "8b4bb7e4-b7eb-4d2b-8412-fa5c8227dd7b",
   "metadata": {},
   "outputs": [],
   "source": [
    "df_sc = pd.DataFrame(data_sc, columns = ['total_bill', 'tip', 'sex', 'smoker', 'day', 'time', 'size',\n",
    "                                         'tip_rate'])"
   ]
  },
  {
   "cell_type": "code",
   "execution_count": null,
   "id": "8e689177-152e-4a9d-864c-18350f37eaeb",
   "metadata": {},
   "outputs": [],
   "source": [
    "df_sc.describe().round(2)"
   ]
  },
  {
   "cell_type": "code",
   "execution_count": null,
   "id": "512ceaae-9e2a-4765-9b2d-8e0a59dc87aa",
   "metadata": {},
   "outputs": [],
   "source": [
    "y = df_sc['tip']"
   ]
  },
  {
   "cell_type": "code",
   "execution_count": null,
   "id": "7e86c407-5049-43b2-9abe-6912044da129",
   "metadata": {},
   "outputs": [],
   "source": [
    "df_sc.drop('tip', axis=1, inplace = True)"
   ]
  },
  {
   "cell_type": "code",
   "execution_count": null,
   "id": "c6f1d3df-0d0a-40da-80d2-8cc941f11de5",
   "metadata": {},
   "outputs": [],
   "source": [
    "data_sc = df_sc.values"
   ]
  },
  {
   "cell_type": "code",
   "execution_count": null,
   "id": "9152354c-03ae-4b29-9d59-8e7ad18f0186",
   "metadata": {},
   "outputs": [],
   "source": [
    "estimator = SVR(kernel=\"linear\")"
   ]
  },
  {
   "cell_type": "code",
   "execution_count": null,
   "id": "be57ec10-d7d0-4903-bce1-e39a1628979e",
   "metadata": {},
   "outputs": [],
   "source": [
    "# define RFE\n",
    "rfe = RFE(estimator, n_features_to_select=4)"
   ]
  },
  {
   "cell_type": "code",
   "execution_count": null,
   "id": "6b78574c-935b-4ef2-a0d0-2259185ac5ef",
   "metadata": {},
   "outputs": [],
   "source": [
    "# fit RFE\n",
    "selector=rfe.fit(data_sc, y)"
   ]
  },
  {
   "cell_type": "code",
   "execution_count": null,
   "id": "2719d0d8-b8b5-4c4f-b935-95f07783b57d",
   "metadata": {},
   "outputs": [],
   "source": [
    "!cd"
   ]
  },
  {
   "cell_type": "code",
   "execution_count": null,
   "id": "266e1bc3-51a5-4487-a2dd-c275e0d2f344",
   "metadata": {},
   "outputs": [],
   "source": [
    "selector.support_"
   ]
  },
  {
   "cell_type": "code",
   "execution_count": null,
   "id": "204d42ad-7085-44cf-88cb-73af268bb96a",
   "metadata": {},
   "outputs": [],
   "source": [
    "df"
   ]
  },
  {
   "cell_type": "code",
   "execution_count": null,
   "id": "55293598-b597-406b-8cc9-b92b77f8cd48",
   "metadata": {},
   "outputs": [],
   "source": [
    "# summarize all features\n",
    "for i in range(data_sc.shape[1]):\n",
    "  print('Column: %d,  Rank: %d' % (i,  rfe.ranking_[i]))"
   ]
  },
  {
   "cell_type": "code",
   "execution_count": null,
   "id": "68468d53-ba3e-4a99-9b10-679e2b4692ed",
   "metadata": {},
   "outputs": [],
   "source": [
    "df1=pd.DataFrame(data_sc, columns=['total_bill', 'sex', 'smoker', 'day', 'time', 'size', 'tip_rate'])"
   ]
  },
  {
   "cell_type": "code",
   "execution_count": null,
   "id": "3a840966-0128-422a-9945-04b3d6e5b024",
   "metadata": {},
   "outputs": [],
   "source": [
    "df1.columns"
   ]
  },
  {
   "cell_type": "code",
   "execution_count": null,
   "id": "02cd89f7-23bb-4bd6-8205-8fdc8cfaede5",
   "metadata": {},
   "outputs": [],
   "source": [
    "df1.drop(['sex', 'smoker', 'day'], axis=1, inplace=True)"
   ]
  },
  {
   "cell_type": "code",
   "execution_count": null,
   "id": "ab74abbe-8093-45f3-8183-3c17a4030580",
   "metadata": {},
   "outputs": [],
   "source": [
    "df1.corr()"
   ]
  },
  {
   "cell_type": "code",
   "execution_count": null,
   "id": "e14dbf6a-f7be-453d-a9f6-184e35c53d3e",
   "metadata": {},
   "outputs": [],
   "source": [
    "import pandas_profiling"
   ]
  },
  {
   "cell_type": "code",
   "execution_count": null,
   "id": "e1d24069-c198-4c60-83ff-13883877f04d",
   "metadata": {},
   "outputs": [],
   "source": [
    "df1.profile_report()"
   ]
  },
  {
   "cell_type": "markdown",
   "id": "5813dbb5-9065-4ea5-a0ce-818fe1069533",
   "metadata": {},
   "source": [
    "### MinMaxScaler\n"
   ]
  },
  {
   "cell_type": "code",
   "execution_count": null,
   "id": "6f74fc04-877b-410a-a8c3-e60b3a717ad1",
   "metadata": {},
   "outputs": [],
   "source": [
    "from sklearn.preprocessing import MinMaxScaler"
   ]
  },
  {
   "cell_type": "code",
   "execution_count": null,
   "id": "9546fbb1-20b8-4a26-b336-5b761f8545e9",
   "metadata": {},
   "outputs": [],
   "source": [
    "trans = MinMaxScaler()"
   ]
  },
  {
   "cell_type": "code",
   "execution_count": null,
   "id": "7cf8b16c-34a5-4cba-b477-a1461c203530",
   "metadata": {},
   "outputs": [],
   "source": [
    "data.shape"
   ]
  },
  {
   "cell_type": "code",
   "execution_count": null,
   "id": "4cf7674b-ddd5-4c1f-a1fa-823f6e90bb52",
   "metadata": {},
   "outputs": [],
   "source": [
    "X_norm = trans.fit_transform(data)"
   ]
  },
  {
   "cell_type": "code",
   "execution_count": null,
   "id": "2b8b4e0d-a941-4013-909b-5cab50058626",
   "metadata": {},
   "outputs": [],
   "source": [
    "df_norm = pd.DataFrame(X_norm)"
   ]
  },
  {
   "cell_type": "code",
   "execution_count": null,
   "id": "8e5b1ee9-32fb-4387-862e-c351c960458d",
   "metadata": {},
   "outputs": [],
   "source": [
    "df_norm.describe()"
   ]
  },
  {
   "cell_type": "code",
   "execution_count": null,
   "id": "cc13b9db-5e6a-4f10-9be0-91723295bf43",
   "metadata": {},
   "outputs": [],
   "source": [
    "df.describe()"
   ]
  },
  {
   "cell_type": "markdown",
   "id": "8435f8b0-6c22-44a0-8eb5-694da641c54d",
   "metadata": {},
   "source": [
    "### StandardScaler"
   ]
  },
  {
   "cell_type": "code",
   "execution_count": null,
   "id": "133765db-aeda-48b2-b69f-dca4d8581690",
   "metadata": {},
   "outputs": [],
   "source": [
    "from sklearn.preprocessing import StandardScaler"
   ]
  },
  {
   "cell_type": "code",
   "execution_count": null,
   "id": "572fdf79-03b0-4338-a7f4-803d22a59dab",
   "metadata": {},
   "outputs": [],
   "source": [
    "sc=StandardScaler()"
   ]
  },
  {
   "cell_type": "code",
   "execution_count": null,
   "id": "701e738d-c7ab-4b2b-ad16-d1a6cebe79c3",
   "metadata": {},
   "outputs": [],
   "source": [
    "df_sc=sc.fit_transform(data)"
   ]
  },
  {
   "cell_type": "code",
   "execution_count": null,
   "id": "7a77ae9a-6de5-4502-bd94-c1faa8d72526",
   "metadata": {},
   "outputs": [],
   "source": [
    "df_trsfrom_sc=pd.DataFrame(df_sc)"
   ]
  },
  {
   "cell_type": "code",
   "execution_count": null,
   "id": "2ccb85fd-2b37-4622-abae-d83c1c8aa991",
   "metadata": {},
   "outputs": [],
   "source": [
    "df_trsfrom_sc.describe().round()"
   ]
  },
  {
   "cell_type": "code",
   "execution_count": null,
   "id": "370addf9-0d42-4003-8066-af8f41abce22",
   "metadata": {},
   "outputs": [],
   "source": [
    "data"
   ]
  },
  {
   "cell_type": "markdown",
   "id": "98c991f1-caf6-4b65-bc3f-6cb8eeb892d7",
   "metadata": {},
   "source": [
    "### PCA"
   ]
  },
  {
   "cell_type": "code",
   "execution_count": null,
   "id": "514b1263-b997-4480-9899-b43dfa480c40",
   "metadata": {},
   "outputs": [],
   "source": [
    "from sklearn.decomposition import PCA"
   ]
  },
  {
   "cell_type": "code",
   "execution_count": null,
   "id": "96343cc8-d1df-492f-805d-70a66e922352",
   "metadata": {},
   "outputs": [],
   "source": [
    "df_pca = pd.read_csv('tips.csv')"
   ]
  },
  {
   "cell_type": "code",
   "execution_count": null,
   "id": "1d117024-45ae-482a-9e20-f76782c5bf33",
   "metadata": {},
   "outputs": [],
   "source": [
    "df_pca['sex'].replace({'Female':0, 'Male':1}, inplace=True)\n",
    "df_pca[\"smoker\"].replace({\"No\" : 0, \"Yes\" : 1}, inplace=True)\n",
    "df_pca[\"day\"].replace({\"Thur\" : 0, \"Fri\" : 1, \"Sat\" : 2, \"Sun\" : 3}, inplace=True)\n",
    "df_pca[\"time\"].replace({\"Lunch\" : 0, \"Dinner\" : 1}, inplace=True)\n",
    "df_pca['tip_rate']=df[\"tip\"] / df[\"total_bill\"]"
   ]
  },
  {
   "cell_type": "code",
   "execution_count": null,
   "id": "b118a8bd-7608-4854-81e0-b0f3606ae562",
   "metadata": {},
   "outputs": [],
   "source": [
    "df_pca['tip_rate']=((df['tip']/df['total_bill'])*100).round(2)"
   ]
  },
  {
   "cell_type": "code",
   "execution_count": null,
   "id": "768ae1f3-fd81-4fa6-b0ed-78234ac06951",
   "metadata": {},
   "outputs": [],
   "source": [
    "df_pca.describe()"
   ]
  },
  {
   "cell_type": "code",
   "execution_count": null,
   "id": "9be33376-f277-4b7e-a093-1f99291bb578",
   "metadata": {},
   "outputs": [],
   "source": [
    "data_pca = df_pca.values"
   ]
  },
  {
   "cell_type": "code",
   "execution_count": null,
   "id": "14982686-1e9e-4370-a733-9806a5ac61d6",
   "metadata": {},
   "outputs": [],
   "source": [
    "data_pca.shape"
   ]
  },
  {
   "cell_type": "code",
   "execution_count": null,
   "id": "4147146b-0872-48af-95d1-74e395064afa",
   "metadata": {},
   "outputs": [],
   "source": [
    "# define the transform\n",
    "trans = PCA(n_components=5)"
   ]
  },
  {
   "cell_type": "code",
   "execution_count": null,
   "id": "c43b621c-a2e7-4bac-bada-80faa03e6bf2",
   "metadata": {},
   "outputs": [],
   "source": [
    "# transform the data\n",
    "X_dim = trans.fit_transform(data_pca)"
   ]
  },
  {
   "cell_type": "code",
   "execution_count": null,
   "id": "493cdf26-0f09-453b-bba9-868095951b57",
   "metadata": {},
   "outputs": [],
   "source": [
    "# summarize data after the transform\n",
    "print(X_dim[:3, :])"
   ]
  },
  {
   "cell_type": "code",
   "execution_count": null,
   "id": "29d88815-40c9-4e1b-880d-c6aff47715fd",
   "metadata": {},
   "outputs": [],
   "source": [
    "trans.components_"
   ]
  },
  {
   "cell_type": "code",
   "execution_count": null,
   "id": "ebedb813-83a6-4d69-8cd2-2036503aacb7",
   "metadata": {},
   "outputs": [],
   "source": [
    "trans.explained_variance_ratio_"
   ]
  },
  {
   "cell_type": "code",
   "execution_count": null,
   "id": "5a185bd6-6c41-4b3f-b716-38192546632d",
   "metadata": {},
   "outputs": [],
   "source": [
    "trans.explained_variance_ratio_.cumsum()"
   ]
  },
  {
   "cell_type": "code",
   "execution_count": null,
   "id": "6d8985b0-56d6-4153-89f3-c01bd9472559",
   "metadata": {},
   "outputs": [],
   "source": [
    "df_pca_transform = pd.DataFrame(X_dim)"
   ]
  },
  {
   "cell_type": "code",
   "execution_count": null,
   "id": "3305009c-f8f7-4f9b-a2be-3c7f2fe683ca",
   "metadata": {},
   "outputs": [],
   "source": [
    "df_pca_transform.describe().round(2)"
   ]
  },
  {
   "cell_type": "code",
   "execution_count": null,
   "id": "cd1bb502-0d28-4eb0-859f-4723e29747bc",
   "metadata": {},
   "outputs": [],
   "source": [
    "trans.components_.shape    #[n_components, n_features]"
   ]
  },
  {
   "cell_type": "code",
   "execution_count": null,
   "id": "c4d8e87d-ebf4-41ee-89c7-1e2b69096f50",
   "metadata": {},
   "outputs": [],
   "source": [
    "print(abs(trans.components_))"
   ]
  },
  {
   "cell_type": "markdown",
   "id": "ac972f76-3c5d-40ea-b246-8c9c73335f45",
   "metadata": {},
   "source": [
    "### Regression Feature Selection with mutate varible : tip_rate"
   ]
  },
  {
   "cell_type": "code",
   "execution_count": null,
   "id": "8a58df47-03c6-431c-9030-21de5d39d083",
   "metadata": {},
   "outputs": [],
   "source": [
    "from sklearn.feature_selection import SelectKBest\n",
    "from sklearn.feature_selection import f_regression\n",
    "\n",
    "import pandas as pd\n",
    "import pandas_profiling"
   ]
  },
  {
   "cell_type": "code",
   "execution_count": null,
   "id": "a0ad3cc0-ea25-42be-8b56-74ec5058deb1",
   "metadata": {},
   "outputs": [],
   "source": [
    "df_rfs = pd.read_csv('tips.csv')"
   ]
  },
  {
   "cell_type": "code",
   "execution_count": null,
   "id": "4b4c4e12-4d99-4c6b-95f4-2929d4d2af7b",
   "metadata": {},
   "outputs": [],
   "source": [
    "df_rfs['sex'].replace({'Female':0, 'Male':1}, inplace=True)\n",
    "df_rfs[\"smoker\"].replace({\"No\" : 0, \"Yes\" : 1}, inplace=True)\n",
    "df_rfs[\"day\"].replace({\"Thur\" : 0, \"Fri\" : 1, \"Sat\" : 2, \"Sun\" : 3}, inplace=True)\n",
    "df_rfs[\"time\"].replace({\"Lunch\" : 0, \"Dinner\" : 1}, inplace=True)\n",
    "df_rfs['tip_rate']=df[\"tip\"] / df[\"total_bill\"]"
   ]
  },
  {
   "cell_type": "code",
   "execution_count": null,
   "id": "55143665-0ca7-41f8-b26b-57d55b8c6ff3",
   "metadata": {},
   "outputs": [],
   "source": [
    "df_rfs['tip_rate']=((df['tip']/df['total_bill'])*100).round(2)"
   ]
  },
  {
   "cell_type": "code",
   "execution_count": null,
   "id": "5b25149d-99b5-48de-b22e-b2de5e38d6f7",
   "metadata": {},
   "outputs": [],
   "source": [
    "df_rfs.describe()"
   ]
  },
  {
   "cell_type": "code",
   "execution_count": null,
   "id": "e165be34-1072-4c18-9368-535346fbf996",
   "metadata": {},
   "outputs": [],
   "source": [
    "data_trans = df_rfs.drop('tip',axis=1).values"
   ]
  },
  {
   "cell_type": "code",
   "execution_count": null,
   "id": "84520011-40b9-4ddc-829d-2deccfd043c3",
   "metadata": {},
   "outputs": [],
   "source": [
    "data_trans.shape"
   ]
  },
  {
   "cell_type": "code",
   "execution_count": null,
   "id": "25366f86-c154-4247-b39f-c254fb9796c2",
   "metadata": {},
   "outputs": [],
   "source": [
    "y = df_rfs['tip'].values"
   ]
  },
  {
   "cell_type": "code",
   "execution_count": null,
   "id": "da2c939c-3279-4a46-bd60-49c5d3483713",
   "metadata": {},
   "outputs": [],
   "source": [
    "y.shape"
   ]
  },
  {
   "cell_type": "code",
   "execution_count": null,
   "id": "2722ec2f-bf7d-4c4b-9d05-0eec598dfd37",
   "metadata": {},
   "outputs": [],
   "source": [
    "fs = SelectKBest(score_func=f_regression, k=4)"
   ]
  },
  {
   "cell_type": "code",
   "execution_count": null,
   "id": "eb4e2432-9a02-4d95-b926-9cca9418088b",
   "metadata": {},
   "outputs": [],
   "source": [
    "# apply feature selection\n",
    "X_selected = fs.fit_transform(data_trans, y)"
   ]
  },
  {
   "cell_type": "code",
   "execution_count": null,
   "id": "e6c2235c-01e2-459b-9bcd-ad6d15becc0e",
   "metadata": {},
   "outputs": [],
   "source": []
  },
  {
   "cell_type": "code",
   "execution_count": null,
   "id": "81689e4d-2fa4-4748-8aaf-daa84232f49e",
   "metadata": {},
   "outputs": [],
   "source": [
    "get_features = fs.fit(data_trans, y)"
   ]
  },
  {
   "cell_type": "code",
   "execution_count": null,
   "id": "b5d2e73c-e8a1-43dd-8b67-1f98a9e76010",
   "metadata": {},
   "outputs": [],
   "source": [
    "parameters = fs.get_params(deep=True)"
   ]
  },
  {
   "cell_type": "code",
   "execution_count": null,
   "id": "c6f6c001-ba34-4325-bd46-0a2b383f9f2c",
   "metadata": {},
   "outputs": [],
   "source": [
    "parameters"
   ]
  },
  {
   "cell_type": "raw",
   "id": "0d75fedc-9a35-4037-9f6a-33f9f85d62cd",
   "metadata": {},
   "source": [
    "parameters['score_func']"
   ]
  },
  {
   "cell_type": "code",
   "execution_count": null,
   "id": "9c9c40c4-94da-4964-b2c8-67efc1763330",
   "metadata": {},
   "outputs": [],
   "source": [
    "get_features"
   ]
  },
  {
   "cell_type": "code",
   "execution_count": null,
   "id": "7e0b0516-a6f4-43c6-9382-fa17ec63505d",
   "metadata": {},
   "outputs": [],
   "source": [
    "fs.get_support(indices=True)"
   ]
  },
  {
   "cell_type": "code",
   "execution_count": null,
   "id": "65434d1d-cb8d-4111-a9c7-b7bbb35d896f",
   "metadata": {},
   "outputs": [],
   "source": [
    "df_rfs_transform = pd.DataFrame(data_trans, columns = ['total_bill', 'sex', 'smoker', 'day', 'time', 'size',\n",
    "       'tip_rate'])"
   ]
  },
  {
   "cell_type": "code",
   "execution_count": null,
   "id": "e7da0670-3f59-4b9a-be25-b95ac0b918bb",
   "metadata": {},
   "outputs": [],
   "source": [
    "df_rfs_transform.drop(['sex', 'smoker', 'time'], axis = 1, inplace = True)"
   ]
  },
  {
   "cell_type": "code",
   "execution_count": null,
   "id": "444250c6-2538-494b-bf58-bb3e3a747ca9",
   "metadata": {},
   "outputs": [],
   "source": [
    "df_rfs_transform.describe()"
   ]
  },
  {
   "cell_type": "code",
   "execution_count": null,
   "id": "79d2cf84-be7f-4643-b3b0-d30e576387a4",
   "metadata": {},
   "outputs": [],
   "source": [
    "df_rfs_transform.profile_report()"
   ]
  },
  {
   "cell_type": "code",
   "execution_count": null,
   "id": "fd0e0e2f-a6a5-480c-b8a0-f2cc78a7abc1",
   "metadata": {},
   "outputs": [],
   "source": []
  },
  {
   "cell_type": "code",
   "execution_count": null,
   "id": "bdc7cde4-5af3-4da8-a077-ef2914a989a1",
   "metadata": {},
   "outputs": [],
   "source": [
    "data_trans.shape"
   ]
  },
  {
   "cell_type": "code",
   "execution_count": null,
   "id": "9298bac1-933f-4df9-84e4-d6ba9a941025",
   "metadata": {},
   "outputs": [],
   "source": [
    "y.shape"
   ]
  },
  {
   "cell_type": "code",
   "execution_count": null,
   "id": "6b0950d0-d89b-45e0-a16e-e8b4e4850e91",
   "metadata": {},
   "outputs": [],
   "source": [
    "df_rfs_transform = pd.DataFrame(data_trans)"
   ]
  },
  {
   "cell_type": "code",
   "execution_count": null,
   "id": "b9cc054a-ccee-4990-adc2-4351b7ed38d4",
   "metadata": {},
   "outputs": [],
   "source": [
    "print(X_selected.shape)"
   ]
  },
  {
   "cell_type": "code",
   "execution_count": null,
   "id": "e415f4a9-6366-4b24-83aa-cd08127ca1ae",
   "metadata": {},
   "outputs": [],
   "source": [
    "X_selected.shape[1]"
   ]
  },
  {
   "cell_type": "code",
   "execution_count": null,
   "id": "dd5fe4d4-2d1c-4856-b373-5f942de5f78a",
   "metadata": {},
   "outputs": [],
   "source": []
  }
 ],
 "metadata": {
  "kernelspec": {
   "display_name": "Python Multi",
   "language": "python",
   "name": "multi"
  },
  "language_info": {
   "codemirror_mode": {
    "name": "ipython",
    "version": 3
   },
   "file_extension": ".py",
   "mimetype": "text/x-python",
   "name": "python",
   "nbconvert_exporter": "python",
   "pygments_lexer": "ipython3",
   "version": "3.7.6"
  }
 },
 "nbformat": 4,
 "nbformat_minor": 5
}
